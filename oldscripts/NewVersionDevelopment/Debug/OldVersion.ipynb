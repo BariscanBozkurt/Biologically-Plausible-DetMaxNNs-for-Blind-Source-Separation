{
 "cells": [
  {
   "cell_type": "code",
   "execution_count": 1,
   "id": "8a04cd09",
   "metadata": {},
   "outputs": [],
   "source": [
    "import sys\n",
    "import os\n",
    "sys.path.append(\"../src\")\n",
    "\n",
    "import numpy as np\n",
    "import matplotlib.pyplot as plt\n",
    "from IPython import display\n",
    "import pylab as pl\n",
    "\n",
    "from WSMBSS import *\n",
    "from general_utils import *\n",
    "from visualization_utils import * \n",
    "\n",
    "import warnings\n",
    "warnings.filterwarnings(\"ignore\")\n",
    "\n",
    "notebook_name = 'Nonnegative_Antisparse_Copula'"
   ]
  },
  {
   "cell_type": "code",
   "execution_count": 2,
   "id": "1fb28f56",
   "metadata": {},
   "outputs": [],
   "source": [
    "@njit\n",
    "def run_neural_dynamics_nnantisparse_jit(x_current, h, y, M_H, M_Y, \n",
    "                                        W_HX, W_YH, D1, D2, beta, zeta, neural_dynamic_iterations, \n",
    "                                        lr_start, lr_stop, OUTPUT_COMP_TOL,\n",
    "                                        use_adam_opt = False, adam_beta1 = 0.9, \n",
    "                                         adam_beta2 = 0.999, adam_eps = 1e-8):\n",
    "\n",
    "    if use_adam_opt:\n",
    "        beta1 = adam_beta1\n",
    "        beta2 = adam_beta2\n",
    "        epsilon = adam_eps\n",
    "        mt_h = np.zeros_like(h)\n",
    "        vt_h = np.zeros_like(h)\n",
    "        mt_y = np.zeros_like(y)\n",
    "        vt_y = np.zeros_like(y)\n",
    "\n",
    "        Gamma_H = np.diag(np.diag(M_H))\n",
    "        M_hat_H = M_H - Gamma_H\n",
    "\n",
    "        Gamma_Y = np.diag(np.diag(M_Y))\n",
    "        M_hat_Y = M_Y - Gamma_Y\n",
    "\n",
    "        v = ((1 - beta) * Gamma_H + beta * D1 @ Gamma_H @ D1) @ (h)\n",
    "        u = Gamma_Y @ D2 @ (y)\n",
    "\n",
    "        PreviousMembraneVoltages = {'v': np.zeros_like(v), 'u': np.zeros_like(u)}\n",
    "        MembraneVoltageNotSettled = 1\n",
    "        OutputCounter = 0\n",
    "\n",
    "        while MembraneVoltageNotSettled & (OutputCounter < neural_dynamic_iterations):\n",
    "            OutputCounter += 1\n",
    "            MUV = max(lr_start/(1+OutputCounter*0.005), lr_stop)\n",
    "\n",
    "            delv = -v + (1 - zeta) * beta * D1 @ W_HX @ x_current\n",
    "            delv = delv - ((1 - zeta) * (1 - beta) * M_hat_H  + (1- zeta) * beta * D1 @ M_hat_H @ D1) @ h\n",
    "            delv = delv + (1 - zeta) * (1 - beta) * W_YH.T @ D2 @ y\n",
    "\n",
    "            mt_h = beta1 * mt_h + (1 - beta1)*delv\n",
    "            vt_h = beta2 * vt_h + (1 - beta2)*delv**2\n",
    "\n",
    "            mt_hat_h = mt_h / (1 - beta1**OutputCounter)\n",
    "            vt_hat_h = vt_h / (1 - beta2**OutputCounter)\n",
    "\n",
    "            v = v + MUV * mt_hat_h / (np.sqrt(vt_hat_h) + epsilon)\n",
    "\n",
    "            h = v / np.diag(Gamma_H * ((1 - zeta) * (1 - beta) + (1 - zeta) * beta * D1 ** 2))\n",
    "\n",
    "            delu = -u + W_YH @ h\n",
    "            delu = delu - M_hat_Y @ D2 @ y\n",
    "\n",
    "            mt_y = beta1 * mt_y + (1 - beta1)*delu\n",
    "            vt_y = beta2 * vt_y + (1 - beta2)*delu**2\n",
    "\n",
    "            mt_hat_y = mt_y / (1 - beta1**OutputCounter)\n",
    "            vt_hat_y = vt_y / (1 - beta2**OutputCounter)\n",
    "            u = u + MUV * mt_hat_y / (np.sqrt(vt_hat_y) + epsilon)\n",
    "\n",
    "            y = u / np.diag(Gamma_Y * (D2))\n",
    "            y = y*(y>=0)*(y<=1.0)+(y>1.0)*1.0\n",
    "\n",
    "            MembraneVoltageNotSettled = 0\n",
    "            if (np.linalg.norm(v - PreviousMembraneVoltages['v'])/(np.linalg.norm(v) + 1e-30) > OUTPUT_COMP_TOL) | (np.linalg.norm(u - PreviousMembraneVoltages['u'])/(np.linalg.norm(u) + 1e-30) > OUTPUT_COMP_TOL):\n",
    "                MembraneVoltageNotSettled = 1\n",
    "            PreviousMembraneVoltages['v'] = v\n",
    "            PreviousMembraneVoltages['u'] = u\n",
    "    else:\n",
    "        Gamma_H = np.diag(np.diag(M_H))\n",
    "        M_hat_H = M_H - Gamma_H\n",
    "\n",
    "        Gamma_Y = np.diag(np.diag(M_Y))\n",
    "        M_hat_Y = M_Y - Gamma_Y\n",
    "\n",
    "        v = ((1 - beta) * Gamma_H + beta * D1 @ Gamma_H @ D1) @ (h)\n",
    "        u = Gamma_Y @ D2 @ (y)\n",
    "\n",
    "        PreviousMembraneVoltages = {'v': np.zeros_like(v), 'u': np.zeros_like(u)}\n",
    "        MembraneVoltageNotSettled = 1\n",
    "        OutputCounter = 0\n",
    "\n",
    "        while MembraneVoltageNotSettled & (OutputCounter < neural_dynamic_iterations):\n",
    "            OutputCounter += 1\n",
    "            MUV = max(lr_start/(1+OutputCounter*0.005), lr_stop)\n",
    "\n",
    "            delv = -v + (1 - zeta) * beta * D1 @ W_HX @ x_current\n",
    "            delv = delv - ((1 - zeta) * (1 - beta) * M_hat_H  + (1- zeta) * beta * D1 @ M_hat_H @ D1) @ h\n",
    "            delv = delv + (1 - zeta) * (1 - beta) * W_YH.T @ D2 @ y\n",
    "            v = v + (MUV) * delv\n",
    "            h = v / np.diag(Gamma_H * ((1 - zeta) * (1 - beta) + (1 - zeta) * beta * D1 ** 2))\n",
    "\n",
    "            delu = -u + W_YH @ h\n",
    "            delu = delu - M_hat_Y @ D2 @ y\n",
    "            u = u + (MUV) * delu\n",
    "            y = u / np.diag(Gamma_Y * (D2))\n",
    "            y = y*(y>=0)*(y<=1.0)+(y>1.0)*1.0\n",
    "            v = ((1 - beta) * Gamma_H + beta * D1 @ Gamma_H @ D1) @ (h)\n",
    "            u = Gamma_Y @ D2 @ (y)\n",
    "            MembraneVoltageNotSettled = 0\n",
    "            if (np.linalg.norm(v - PreviousMembraneVoltages['v'])/(np.linalg.norm(v) + 1e-30) > OUTPUT_COMP_TOL) | (np.linalg.norm(u - PreviousMembraneVoltages['u'])/(np.linalg.norm(u) + 1e-30) > OUTPUT_COMP_TOL):\n",
    "                MembraneVoltageNotSettled = 1\n",
    "            PreviousMembraneVoltages['v'] = v\n",
    "            PreviousMembraneVoltages['u'] = u\n",
    "\n",
    "    return h,y, OutputCounter\n",
    "\n",
    "def dlogdet(D, DEPS = 5e-8):\n",
    "    d = np.diag(np.diag(D + DEPS * np.eye(len(D))) ** (-1))\n",
    "    return d"
   ]
  },
  {
   "cell_type": "code",
   "execution_count": 3,
   "id": "9ffe6211",
   "metadata": {},
   "outputs": [
    {
     "name": "stdout",
     "output_type": "stream",
     "text": [
      "The following is the mixture matrix A\n"
     ]
    },
    {
     "data": {
      "text/latex": [
       "$\\displaystyle \\begin{bmatrix} \n",
       " 0.147 & -0.255 & -0.599 & 1.069 & -0.646 & \\\\\n",
       " 0.141 & -0.504 & -0.437 & -0.465 & 0.407 & \\\\\n",
       " -0.910 & 0.543 & 0.112 & -0.587 & 0.005 & \\\\\n",
       " 0.137 & 0.066 & -0.820 & -0.290 & -0.074 & \\\\\n",
       " -0.151 & 0.008 & -0.687 & -0.365 & -0.033 & \\\\\n",
       " -0.214 & 0.304 & -0.100 & 0.816 & 0.211 & \\\\\n",
       " 0.281 & 0.576 & 0.452 & -0.267 & -0.139 & \\\\\n",
       " -0.470 & -0.262 & -0.302 & -0.384 & 0.545 & \\\\\n",
       " -0.042 & 0.195 & 0.336 & 0.703 & -0.819 & \\\\\n",
       " -0.779 & -0.382 & 0.171 & -0.033 & 0.092 & \\\\\n",
       "\\end{bmatrix}$"
      ],
      "text/plain": [
       "<IPython.core.display.Math object>"
      ]
     },
     "metadata": {},
     "output_type": "display_data"
    },
    {
     "name": "stdout",
     "output_type": "stream",
     "text": [
      "Input SNR is : 29.99847169729263\n"
     ]
    }
   ],
   "source": [
    "np.random.seed(100)\n",
    "rho = 0.5\n",
    "N = 500000\n",
    "NumberofSources = 5\n",
    "NumberofMixtures = 10\n",
    "\n",
    "# NoiseAmp = (10 ** (-SNR/20))# * np.sqrt(NumberofSources)\n",
    "\n",
    "S = generate_correlated_copula_sources(rho = rho, df = 4, n_sources = NumberofSources, size_sources = N , \n",
    "                                       decreasing_correlation = True)\n",
    "\n",
    "INPUT_STD = 0.28\n",
    "A, X = WSM_Mixing_Scenario(S, NumberofMixtures, INPUT_STD)\n",
    "\n",
    "SNR=30\n",
    "X, NoisePart = addWGN(X, SNR, return_noise = True)\n",
    "\n",
    "SNRinp = 10 * np.log10(np.sum(np.mean((X - NoisePart)**2, axis = 1)) / np.sum(np.mean(NoisePart**2, axis = 1)))\n",
    "print(\"The following is the mixture matrix A\")\n",
    "display_matrix(A)\n",
    "print(\"Input SNR is : {}\".format(SNRinp))"
   ]
  },
  {
   "cell_type": "code",
   "execution_count": 4,
   "id": "8f3bafc4",
   "metadata": {},
   "outputs": [],
   "source": [
    "if rho > 0.4:\n",
    "    gamma_start = 0.05\n",
    "    gamma_stop = 5*1e-4\n",
    "else:\n",
    "    gamma_start = 0.1\n",
    "    gamma_stop = 1e-3\n",
    "    \n",
    "OUTPUT_COMP_TOL = 1e-7\n",
    "MAX_OUT_ITERATIONS= 3000\n",
    "LayerGains = [1,1]\n",
    "LayerMinimumGains = [1e-3,1e-3]\n",
    "LayerMaximumGains = [1e6,20]\n",
    "WScalings = [0.0033,0.0033]\n",
    "GamScalings = [2,1]\n",
    "zeta = 1*1e-5\n",
    "beta = 0.5\n",
    "muD = [1, 1e-2]\n",
    "\n",
    "neural_dynamic_iterations = 500\n",
    "neural_lr_start = 0.75\n",
    "neural_lr_stop = 0.05\n",
    "\n",
    "s_dim = S.shape[0]\n",
    "x_dim = X.shape[0]\n",
    "h_dim = s_dim\n",
    "samples = S.shape[1]\n",
    "W_HX = np.eye(h_dim, x_dim)\n",
    "W_YH = np.eye(s_dim, h_dim)\n",
    "\n",
    "M_H = GamScalings[0] * np.eye(h_dim)\n",
    "M_Y = GamScalings[1] * np.eye(s_dim)\n",
    "D1 = LayerGains[0] * np.eye(h_dim)\n",
    "D2 = LayerGains[1] * np.eye(s_dim)\n",
    "\n",
    "H = np.zeros((h_dim,samples))\n",
    "Y = np.zeros((s_dim,samples))"
   ]
  },
  {
   "cell_type": "code",
   "execution_count": 5,
   "id": "bdbec5d4",
   "metadata": {},
   "outputs": [
    {
     "data": {
      "text/plain": [
       "(array([ 0.07172777, -0.12295729, -0.22121189, -0.05889188, -0.1491297 ]),\n",
       " array([0.07172776, 0.        , 0.        , 0.        , 0.        ]),\n",
       " 32)"
      ]
     },
     "execution_count": 5,
     "metadata": {},
     "output_type": "execute_result"
    }
   ],
   "source": [
    "i_sample = 0\n",
    "x_current = X[:, i_sample]\n",
    "h = H[:, i_sample]\n",
    "y = Y[:, i_sample]\n",
    "\n",
    "h,y,oc = run_neural_dynamics_nnantisparse_jit(x_current, h, y, M_H, M_Y, \n",
    "                                    W_HX, W_YH, D1, D2, beta, zeta, neural_dynamic_iterations, \n",
    "                                    neural_lr_start, neural_lr_stop, OUTPUT_COMP_TOL)\n",
    "h,y,oc"
   ]
  },
  {
   "cell_type": "code",
   "execution_count": 6,
   "id": "50ca11bc",
   "metadata": {},
   "outputs": [],
   "source": [
    "MUS = np.max([gamma_start/(1+ np.log(1 + i_sample)/10),gamma_stop])\n",
    "\n",
    "M_H = (1 - MUS) * M_H + MUS * np.outer(h,h)\n",
    "W_HX = (1 - MUS) * W_HX + MUS * np.outer(h,x_current)\n",
    "\n",
    "M_Y = (1 - MUS) * M_Y + MUS * np.outer(y,y)\n",
    "W_YH = (1 - MUS) * W_YH + MUS * np.outer(y,h)\n",
    "\n",
    "D1_prev = D1.copy()\n",
    "D1derivative = (1 - zeta) * beta * np.diag(np.diag(M_H @ D1 @ M_H - W_HX @ W_HX.T)) + zeta * dlogdet(D1)\n",
    "# D1secderivative = (1 - zeta) * beta * np.diag((np.diag(M_H)**2) * np.diag(D1)) + zeta * self.d2logdet(D1)\n",
    "# D1 = D1 - muD[0] * D1derivative #/ D1secderivative\n",
    "D1 = D1 - clipping(muD[0] * D1derivative, D1 * 1)\n",
    "\n",
    "D2_prev = D2.copy()\n",
    "D2derivative = (1 - zeta) * (1 - beta) * np.diag(np.diag(M_Y @ D2 @ M_Y - W_YH @ W_YH.T)) + zeta * dlogdet(D2)\n",
    "# D2secderivative = (1 - zeta) * beta * np.diag((np.diag(M_Y) ** 2) * np.diag(D2)) + zeta * self.d2logdet(D2)\n",
    "# D2 = D2 - muD[1] * D2derivative #/ D2secderivative\n",
    "D2 = D2 - clipping(muD[1] * D2derivative, D2 * 1) \n",
    "\n",
    "d1 = np.diag(D1)\n",
    "d2 = np.diag(D2)\n",
    "\n",
    "D1 = np.diag(d1 * (d1 > LayerMinimumGains[0]) * (d1 < LayerMaximumGains[0]) + LayerMaximumGains[0] * (d1 >= LayerMaximumGains[0]) + LayerMinimumGains[0] * (d1 <= LayerMinimumGains[0]))\n",
    "D2 = np.diag(d2 * (d2 > LayerMinimumGains[1]) * (d2 < LayerMaximumGains[1]) + LayerMaximumGains[1] * (d2 >= LayerMaximumGains[1]) + LayerMinimumGains[1] * (d2 <= LayerMinimumGains[1]))\n"
   ]
  },
  {
   "cell_type": "code",
   "execution_count": 11,
   "id": "80303aed",
   "metadata": {},
   "outputs": [
    {
     "data": {
      "text/plain": [
       "array([[ 9.50771725e-01, -1.76388070e-03, -3.17338975e-03,\n",
       "        -8.44831988e-04, -2.13933638e-03,  3.72752063e-03,\n",
       "         1.96565080e-03, -2.34092050e-03,  4.21593136e-04,\n",
       "        -3.79115397e-03],\n",
       "       [-1.32290822e-03,  9.53023682e-01,  5.43989324e-03,\n",
       "         1.44822924e-03,  3.66729662e-03, -6.38979637e-03,\n",
       "        -3.36956105e-03,  4.01285648e-03, -7.22704059e-04,\n",
       "         6.49887800e-03],\n",
       "       [-2.38003817e-03,  5.43989324e-03,  9.59786887e-01,\n",
       "         2.60550264e-03,  6.59781667e-03, -1.14958536e-02,\n",
       "        -6.06216196e-03,  7.21951184e-03, -1.30021359e-03,\n",
       "         1.16921019e-02],\n",
       "       [-6.33622889e-04,  1.44822924e-03,  2.60550264e-03,\n",
       "         9.50693647e-01,  1.75649605e-03, -3.06047023e-03,\n",
       "        -1.61389200e-03,  1.92200613e-03, -3.46147847e-04,\n",
       "         3.11271619e-03],\n",
       "       [-1.60449949e-03,  3.66729662e-03,  6.59781667e-03,\n",
       "         1.75649605e-03,  9.54447909e-01, -7.74991404e-03,\n",
       "        -4.08679823e-03,  4.86702407e-03, -8.76537218e-04,\n",
       "         7.88221454e-03]])"
      ]
     },
     "execution_count": 11,
     "metadata": {},
     "output_type": "execute_result"
    }
   ],
   "source": [
    "W_HX"
   ]
  },
  {
   "cell_type": "code",
   "execution_count": 8,
   "id": "39301c2e",
   "metadata": {},
   "outputs": [
    {
     "data": {
      "text/plain": [
       "array([[0.001, 0.   , 0.   , 0.   , 0.   ],\n",
       "       [0.   , 0.001, 0.   , 0.   , 0.   ],\n",
       "       [0.   , 0.   , 0.001, 0.   , 0.   ],\n",
       "       [0.   , 0.   , 0.   , 0.001, 0.   ],\n",
       "       [0.   , 0.   , 0.   , 0.   , 0.001]])"
      ]
     },
     "execution_count": 8,
     "metadata": {},
     "output_type": "execute_result"
    }
   ],
   "source": [
    "D1"
   ]
  },
  {
   "cell_type": "code",
   "execution_count": 9,
   "id": "b28c3cfd",
   "metadata": {},
   "outputs": [
    {
     "data": {
      "text/plain": [
       "array([[0.99999991, 0.        , 0.        , 0.        , 0.        ],\n",
       "       [0.        , 0.9999999 , 0.        , 0.        , 0.        ],\n",
       "       [0.        , 0.        , 0.9999999 , 0.        , 0.        ],\n",
       "       [0.        , 0.        , 0.        , 0.9999999 , 0.        ],\n",
       "       [0.        , 0.        , 0.        , 0.        , 0.9999999 ]])"
      ]
     },
     "execution_count": 9,
     "metadata": {},
     "output_type": "execute_result"
    }
   ],
   "source": [
    "D2"
   ]
  }
 ],
 "metadata": {
  "kernelspec": {
   "display_name": "Python 3 (ipykernel)",
   "language": "python",
   "name": "python3"
  },
  "language_info": {
   "codemirror_mode": {
    "name": "ipython",
    "version": 3
   },
   "file_extension": ".py",
   "mimetype": "text/x-python",
   "name": "python",
   "nbconvert_exporter": "python",
   "pygments_lexer": "ipython3",
   "version": "3.8.12"
  }
 },
 "nbformat": 4,
 "nbformat_minor": 5
}
