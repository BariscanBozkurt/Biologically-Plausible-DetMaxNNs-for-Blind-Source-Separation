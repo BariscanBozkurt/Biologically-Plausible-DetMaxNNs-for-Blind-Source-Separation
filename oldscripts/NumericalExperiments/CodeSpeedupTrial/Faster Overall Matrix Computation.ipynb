{
 "cells": [
  {
   "cell_type": "code",
   "execution_count": 1,
   "id": "a6ddad0a",
   "metadata": {},
   "outputs": [],
   "source": [
    "import sys\n",
    "import os\n",
    "os.chdir(\"..\")\n",
    "os.chdir(\"..\")\n",
    "os.chdir(\"./src\")\n",
    "# sys.path.append(\"./src\")"
   ]
  },
  {
   "cell_type": "code",
   "execution_count": 2,
   "id": "e192d80d",
   "metadata": {},
   "outputs": [],
   "source": [
    "import numpy as np\n",
    "import matplotlib.pyplot as plt\n",
    "import pandas as pd\n",
    "import scipy.io\n",
    "from tqdm import tqdm\n",
    "from scipy.stats import invgamma, chi2, t\n",
    "from WSMBSS import *\n",
    "from numba import njit\n",
    "from IPython import display\n",
    "import pylab as pl\n",
    "import mne \n",
    "from mne.preprocessing import ICA\n",
    "import warnings\n",
    "warnings.filterwarnings(\"ignore\")\n",
    "np.random.seed(1569)\n",
    "# %load_ext autoreload\n",
    "# %autoreload 2\n",
    "notebook_name = 'Antisparse_Copula'"
   ]
  },
  {
   "cell_type": "code",
   "execution_count": 3,
   "id": "f0b679d7",
   "metadata": {},
   "outputs": [
    {
     "name": "stdout",
     "output_type": "stream",
     "text": [
      "The following is the mixture matrix A\n"
     ]
    },
    {
     "data": {
      "text/latex": [
       "$\\displaystyle \\begin{bmatrix} \n",
       " 0.059 & 0.644 & 0.220 & 0.090 & \\\\\n",
       " 0.422 & 0.313 & 0.188 & 0.211 & \\\\\n",
       " 0.210 & -0.923 & 0.514 & 0.502 & \\\\\n",
       " 0.902 & -0.226 & 0.147 & -0.472 & \\\\\n",
       " -0.402 & -0.531 & -0.049 & -0.033 & \\\\\n",
       " 0.256 & -0.299 & 0.508 & 0.513 & \\\\\n",
       " -0.114 & 0.856 & -1.097 & 0.209 & \\\\\n",
       " -0.262 & -0.562 & 0.029 & -0.297 & \\\\\n",
       "\\end{bmatrix}$"
      ],
      "text/plain": [
       "<IPython.core.display.Math object>"
      ]
     },
     "metadata": {},
     "output_type": "display_data"
    },
    {
     "name": "stdout",
     "output_type": "stream",
     "text": [
      "Input SNR is : 30.002407782786484\n"
     ]
    }
   ],
   "source": [
    "rho = 0.6\n",
    "N = 500000\n",
    "NumberofSources = 4\n",
    "NumberofMixtures = 8\n",
    "\n",
    "M = NumberofMixtures\n",
    "r = NumberofSources\n",
    "\n",
    "SNR = 30 # dB\n",
    "NoiseAmp = (10 ** (-SNR/20))# * np.sqrt(NumberofSources)\n",
    "\n",
    "S = generate_correlated_copula_sources(rho = rho, df = 4, n_sources = NumberofSources, size_sources = N , \n",
    "                                       decreasing_correlation = True)\n",
    "S = 2 * S - 1\n",
    "INPUT_STD = 0.5\n",
    "A = np.random.standard_normal(size=(NumberofMixtures,NumberofSources))\n",
    "X = A @ S\n",
    "for MM in range(A.shape[0]):\n",
    "    stdx = np.std(X[MM,:])\n",
    "    A[MM,:] = A[MM,:]/stdx * INPUT_STD\n",
    "Xn = A @ S\n",
    "Noisecomp=np.random.randn(A.shape[0],S.shape[1])*np.power(10,-SNR/20)*INPUT_STD\n",
    "X=Xn+Noisecomp\n",
    "SNRinp = 20*np.log10(np.std(Xn)/np.std(Noisecomp))\n",
    "\n",
    "print(\"The following is the mixture matrix A\")\n",
    "display_matrix(A)\n",
    "print(\"Input SNR is : {}\".format(SNRinp))"
   ]
  },
  {
   "cell_type": "code",
   "execution_count": 4,
   "id": "2b89b3e5",
   "metadata": {},
   "outputs": [],
   "source": [
    "if rho > 0.4:\n",
    "    MUS = 0.25\n",
    "    gamma_stop = 5*1e-4\n",
    "else:\n",
    "    MUS = 0.6\n",
    "    gamma_stop = 1e-3\n",
    "OUTPUT_COMP_TOL = 1e-6\n",
    "MAX_OUT_ITERATIONS= 3000\n",
    "LayerGains = [1,1]\n",
    "LayerMinimumGains = [0.2,0.2]\n",
    "LayerMaximumGains = [1e6,5]\n",
    "WScalings = [0.005,0.005]\n",
    "GamScalings = [2,1]\n",
    "zeta = 5*1e-5\n",
    "beta = 0.5\n",
    "muD = [1.125, 0.2]\n",
    "\n",
    "s_dim = S.shape[0]\n",
    "x_dim = X.shape[0]\n",
    "h_dim = s_dim\n",
    "samples = S.shape[1]\n",
    "W_HX = np.eye(h_dim, x_dim)\n",
    "W_YH = np.eye(s_dim, h_dim)"
   ]
  },
  {
   "cell_type": "code",
   "execution_count": 5,
   "id": "389287ac",
   "metadata": {},
   "outputs": [],
   "source": [
    "debug_iteration_point = 10000\n",
    "model = OnlineWSMBSS(s_dim = s_dim, x_dim = x_dim, h_dim = h_dim, \n",
    "                        gamma_start = MUS, gamma_stop = gamma_stop, beta = beta, zeta = zeta, \n",
    "                        muD = muD,WScalings = WScalings, GamScalings = GamScalings,\n",
    "                        W_HX = W_HX, W_YH = W_YH,\n",
    "                        DScalings = LayerGains, LayerMinimumGains = LayerMinimumGains,\n",
    "                        LayerMaximumGains = LayerMaximumGains,neural_OUTPUT_COMP_TOL = OUTPUT_COMP_TOL,\n",
    "                        set_ground_truth = True, S = S, A = A)\n",
    "\n",
    "# modelWSM.fit_batch_antisparse(X, n_epochs = 1, \n",
    "#                                 neural_lr_start = 0.75,\n",
    "#                                 neural_lr_stop = 0.05,\n",
    "#                                 debug_iteration_point = debug_iteration_point,\n",
    "#                                 plot_in_jupyter = True,\n",
    "#                                 )"
   ]
  },
  {
   "cell_type": "code",
   "execution_count": 6,
   "id": "db9cbcd0",
   "metadata": {},
   "outputs": [],
   "source": [
    "@njit\n",
    "def run_neural_dynamics_antisparse_jitV4(x_current, h, y, M_H, M_Y, W_HX, W_YH, D1, D2, beta, zeta, \n",
    "                                         neural_dynamic_iterations, lr_start, lr_stop, OUTPUT_COMP_TOL):\n",
    "    \n",
    "    def ddiag(A):\n",
    "        return np.diag(np.diag(A))\n",
    "    \n",
    "    def offdiag(A, return_diag = False):\n",
    "        if return_diag:\n",
    "            diag = np.diag(A)\n",
    "            return A - np.diag(diag), diag\n",
    "        else:\n",
    "            return A - np.diag(diag)\n",
    "    \n",
    "    M_hat_H, Gamma_H = offdiag(M_H, True)\n",
    "    M_hat_Y, Gamma_Y = offdiag(M_Y, True)\n",
    "    \n",
    "    mat_factor1 = (1 - zeta) * beta * (D1 * W_HX)\n",
    "    mat_factor2 = ((1 - zeta) * (1 - beta) * M_hat_H  + (1- zeta) * beta * ((D1 * M_hat_H) * D1.T))\n",
    "    mat_factor3 = (1 - zeta) * (1 - beta) * (W_YH.T * D2.T)\n",
    "    mat_factor4 = (1 - zeta) * Gamma_H * ((1 - beta) + beta * D1 ** 2)\n",
    "    mat_factor5 = M_hat_Y * D2.T\n",
    "    mat_factor6 = Gamma_Y * D2\n",
    "    \n",
    "\n",
    "    v = mat_factor4 @ h\n",
    "    u = mat_factor6 @ y\n",
    "    \n",
    "    PreviousMembraneVoltages = {'v': np.zeros_like(v), 'u': np.zeros_like(u)}\n",
    "    MembraneVoltageNotSettled = 1\n",
    "    OutputCounter = 0\n",
    "    while MembraneVoltageNotSettled & (OutputCounter < neural_dynamic_iterations):\n",
    "        OutputCounter += 1\n",
    "        MUV = max(lr_start/(1+OutputCounter*0.005), lr_stop)\n",
    "\n",
    "        delv = -v + mat_factor1 @ x_current - mat_factor2 @ h + mat_factor3 @ y\n",
    "        v = v + MUV * delv\n",
    "        h = v / np.diag(mat_factor4)\n",
    "\n",
    "        delu = -u + W_YH @ h - mat_factor5 @ y\n",
    "        u = u + MUV * delu\n",
    "        y = u / np.diag(mat_factor6)\n",
    "        y = np.clip(y, -1, 1)\n",
    "\n",
    "        MembraneVoltageNotSettled = 0\n",
    "        if (np.linalg.norm(v - PreviousMembraneVoltages['v'])/np.linalg.norm(v) > OUTPUT_COMP_TOL) | (np.linalg.norm(u - PreviousMembraneVoltages['u'])/np.linalg.norm(u) > OUTPUT_COMP_TOL):\n",
    "            MembraneVoltageNotSettled = 1\n",
    "        PreviousMembraneVoltages['v'] = v\n",
    "        PreviousMembraneVoltages['u'] = u\n",
    "\n",
    "    return h,y, OutputCounter"
   ]
  },
  {
   "cell_type": "code",
   "execution_count": 7,
   "id": "f9f7138b",
   "metadata": {},
   "outputs": [],
   "source": [
    "W_HX = model.W_HX\n",
    "W_YH = model.W_YH\n",
    "M_H = model.M_H\n",
    "M_Y = model.M_Y\n",
    "D1 = model.D1\n",
    "D2 = model.D2\n",
    "d1 = np.diag(D1).reshape(-1,1)\n",
    "d2 = np.diag(D2).reshape(-1,1)\n",
    "neural_dynamic_iterations = 750\n",
    "lr_start = 0.75\n",
    "lr_stop = 0.05\n",
    "OUTPUT_COMP_TOL = 1e-6\n",
    "\n",
    "def ddiag(A):\n",
    "    return np.diag(np.diag(A))\n",
    "\n",
    "Gamma_H = ddiag(M_H)\n",
    "M_hat_H = M_H - Gamma_H\n",
    "\n",
    "Gamma_Y = ddiag(M_Y)\n",
    "M_hat_Y = M_Y - Gamma_Y\n",
    "    \n",
    "    \n",
    "H = np.zeros((h_dim,samples))\n",
    "Y = np.zeros((s_dim,samples))\n",
    "\n",
    "x_current  = X[:,0] # Take one input\n",
    "\n",
    "y = Y[:,0]\n",
    "\n",
    "h = H[:,0]"
   ]
  },
  {
   "cell_type": "code",
   "execution_count": 8,
   "id": "bec56b69",
   "metadata": {},
   "outputs": [],
   "source": [
    "h4,y4,_ =run_neural_dynamics_antisparse_jitV4(x_current, h, y, M_H, M_Y, W_HX, W_YH, d1, d2, beta, zeta, \n",
    "                                    neural_dynamic_iterations, lr_start, lr_stop, OUTPUT_COMP_TOL)"
   ]
  },
  {
   "cell_type": "code",
   "execution_count": 9,
   "id": "606fe2ef",
   "metadata": {},
   "outputs": [],
   "source": [
    "# WL1 = np.linalg.inv((1 -zeta) * beta * ((d1 * M_H) * d1.T) + (1 - zeta) * (1 - beta) * M_H - (1 -zeta) * (1 - beta) * W_YH.T @ np.linalg.inv(M_Y) @ W_YH) @ ((1 - zeta) * beta * (d1 * W_HX))\n",
    "# WL1"
   ]
  },
  {
   "cell_type": "code",
   "execution_count": 10,
   "id": "1547f295",
   "metadata": {},
   "outputs": [],
   "source": [
    "# A = (1 -zeta) * (beta * ((d1 * M_H) * d1.T) +  (1 - beta) * (M_H -  W_YH.T @ np.linalg.solve(M_Y, W_YH)))\n",
    "# b = ((1 - zeta) * beta * (d1 * W_HX))"
   ]
  },
  {
   "cell_type": "code",
   "execution_count": 11,
   "id": "083be3e0",
   "metadata": {},
   "outputs": [],
   "source": [
    "# np.linalg.solve(A, b) - WL1"
   ]
  },
  {
   "cell_type": "code",
   "execution_count": 12,
   "id": "a2492626",
   "metadata": {},
   "outputs": [],
   "source": [
    "# XX = np.random.randn(W_YH.shape[0], W_YH.shape[1])\n",
    "# WL2 = np.linalg.inv(D2) @ np.linalg.inv(M_Y) @ XX\n",
    "# WL2"
   ]
  },
  {
   "cell_type": "code",
   "execution_count": 13,
   "id": "4dbb9915",
   "metadata": {},
   "outputs": [],
   "source": [
    "# np.linalg.solve(M_Y * d2.T, XX) - WL2"
   ]
  },
  {
   "cell_type": "code",
   "execution_count": 14,
   "id": "e28704d2",
   "metadata": {},
   "outputs": [],
   "source": [
    "# np.linalg.inv(M_Y) @ W_YH"
   ]
  },
  {
   "cell_type": "code",
   "execution_count": 49,
   "id": "05b819c8",
   "metadata": {},
   "outputs": [],
   "source": [
    "def compute_overall_mapping(beta, zeta, D1, D2, M_H, M_Y, W_HX, W_YH):\n",
    "\n",
    "    # Mapping from xt -> ht\n",
    "    WL1 = np.linalg.inv((1 -zeta) * beta * D1 @ M_H @ D1 + (1 - zeta) * (1 - beta) * M_H - (1 -zeta) * (1 - beta) * W_YH.T @ np.linalg.inv(M_Y) @ W_YH) @ ((1 - zeta) * beta * D1 @ W_HX)\n",
    "\n",
    "    # Mapping from ht -> yt\n",
    "    WL2 = np.linalg.inv(D2) @ np.linalg.inv(M_Y) @ W_YH\n",
    "    # Seperator\n",
    "    W = WL2 @ WL1\n",
    "    return W\n",
    "\n",
    "@njit\n",
    "def compute_overall_mapping_jit(beta, zeta, D1, D2, M_H, M_Y, W_HX, W_YH):\n",
    "    # Mapping from xt -> ht\n",
    "    A = (1 -zeta) * (beta * ((D1 * M_H) * D1.T) +  (1 - beta) * (M_H -  W_YH.T @ np.linalg.solve(M_Y, W_YH)))\n",
    "    b = ((1 - zeta) * beta * (D1 * W_HX))\n",
    "    WL1 = np.linalg.solve(A, b)\n",
    "    # Mapping from ht -> yt\n",
    "    WL2 = np.linalg.solve(M_Y * D2.T, W_YH)\n",
    "    W = WL2 @ WL1\n",
    "    return W"
   ]
  },
  {
   "cell_type": "code",
   "execution_count": 50,
   "id": "74a8ca15",
   "metadata": {},
   "outputs": [
    {
     "data": {
      "text/plain": [
       "array([[0., 0., 0., 0., 0., 0., 0., 0.],\n",
       "       [0., 0., 0., 0., 0., 0., 0., 0.],\n",
       "       [0., 0., 0., 0., 0., 0., 0., 0.],\n",
       "       [0., 0., 0., 0., 0., 0., 0., 0.]])"
      ]
     },
     "execution_count": 50,
     "metadata": {},
     "output_type": "execute_result"
    }
   ],
   "source": [
    "compute_overall_mapping(beta, zeta, D1, D2, M_H, M_Y, W_HX, W_YH) - compute_overall_mapping_jit(beta, zeta, d1, d2, M_H, M_Y, W_HX, W_YH)"
   ]
  },
  {
   "cell_type": "code",
   "execution_count": 51,
   "id": "401c1dd2",
   "metadata": {},
   "outputs": [
    {
     "name": "stdout",
     "output_type": "stream",
     "text": [
      "26.2 µs ± 1.17 µs per loop (mean ± std. dev. of 7 runs, 10,000 loops each)\n"
     ]
    }
   ],
   "source": [
    "%timeit compute_overall_mapping_jit(beta, zeta, d1, d2, M_H, M_Y, W_HX, W_YH)"
   ]
  },
  {
   "cell_type": "code",
   "execution_count": 52,
   "id": "f86ff160",
   "metadata": {},
   "outputs": [
    {
     "name": "stdout",
     "output_type": "stream",
     "text": [
      "70.3 µs ± 1.72 µs per loop (mean ± std. dev. of 7 runs, 10,000 loops each)\n"
     ]
    }
   ],
   "source": [
    "%timeit compute_overall_mapping(beta, zeta, D1, D2, M_H, M_Y, W_HX, W_YH)"
   ]
  },
  {
   "cell_type": "markdown",
   "id": "89a232ec",
   "metadata": {},
   "source": [
    "# FASTER snr FUNCTION WITH NUMBA"
   ]
  },
  {
   "cell_type": "code",
   "execution_count": 37,
   "id": "8fcba1b7",
   "metadata": {},
   "outputs": [],
   "source": [
    "def snr(S_original, S_noisy):\n",
    "    N_hat = S_original - S_noisy\n",
    "    N_P = (N_hat ** 2).sum(axis = 0)\n",
    "    S_P = (S_original ** 2).sum(axis = 0)\n",
    "    snr = 10 * np.log10(S_P / N_P)\n",
    "    return snr\n",
    "\n",
    "# @njit\n",
    "@njit( parallel=True )\n",
    "def snr_jit(S_original, S_noisy):\n",
    "    N_hat = S_original - S_noisy\n",
    "    N_P = (N_hat ** 2).sum(axis = 0)\n",
    "    S_P = (S_original ** 2).sum(axis = 0)\n",
    "    snr = 10 * np.log10(S_P / N_P)\n",
    "    return snr"
   ]
  },
  {
   "cell_type": "code",
   "execution_count": 38,
   "id": "f451058a",
   "metadata": {},
   "outputs": [
    {
     "data": {
      "text/plain": [
       "29.998920710595733"
      ]
     },
     "execution_count": 38,
     "metadata": {},
     "output_type": "execute_result"
    }
   ],
   "source": [
    "S = generate_correlated_copula_sources(rho = rho, df = 4, n_sources = NumberofSources, size_sources = N , \n",
    "                                       decreasing_correlation = True)\n",
    "S = 2 * S - 1\n",
    "SNR = 30\n",
    "Snoisy, NoisePart = addWGN(S, SNR, return_noise = True)\n",
    "10 * np.log10(np.sum(np.mean((Snoisy - NoisePart)**2, axis = 1)) / np.sum(np.mean(NoisePart**2, axis = 1)))"
   ]
  },
  {
   "cell_type": "code",
   "execution_count": 39,
   "id": "ac67a3d0",
   "metadata": {},
   "outputs": [
    {
     "data": {
      "text/plain": [
       "array([30.00611817, 29.9971599 , 29.99770972, 29.994705  ])"
      ]
     },
     "execution_count": 39,
     "metadata": {},
     "output_type": "execute_result"
    }
   ],
   "source": [
    "snr_jit(S.T, Snoisy.T)"
   ]
  },
  {
   "cell_type": "code",
   "execution_count": 40,
   "id": "db3254dc",
   "metadata": {},
   "outputs": [
    {
     "data": {
      "text/plain": [
       "array([30.00611817, 29.9971599 , 29.99770972, 29.994705  ])"
      ]
     },
     "execution_count": 40,
     "metadata": {},
     "output_type": "execute_result"
    }
   ],
   "source": [
    "snr(S.T, Snoisy.T)"
   ]
  },
  {
   "cell_type": "code",
   "execution_count": 41,
   "id": "8e5f9204",
   "metadata": {},
   "outputs": [
    {
     "name": "stdout",
     "output_type": "stream",
     "text": [
      "5.99 ms ± 92.9 µs per loop (mean ± std. dev. of 7 runs, 100 loops each)\n"
     ]
    }
   ],
   "source": [
    "%timeit snr_jit(S.T, Snoisy.T)"
   ]
  },
  {
   "cell_type": "code",
   "execution_count": 42,
   "id": "932e84b6",
   "metadata": {},
   "outputs": [
    {
     "name": "stdout",
     "output_type": "stream",
     "text": [
      "26.4 ms ± 102 µs per loop (mean ± std. dev. of 7 runs, 10 loops each)\n"
     ]
    }
   ],
   "source": [
    "%timeit snr(S.T, Snoisy.T)"
   ]
  },
  {
   "cell_type": "code",
   "execution_count": 32,
   "id": "e8372ada",
   "metadata": {},
   "outputs": [],
   "source": [
    "def CalculateSINR(Out,S, compute_permutation = True):\n",
    "    \n",
    "    Smean = np.mean(S,1)\n",
    "    Outmean = np.mean(Out,1)\n",
    "    r=S.shape[0]\n",
    "    if compute_permutation:\n",
    "        G=np.dot(Out-np.reshape(np.mean(Out,1),(r,1)),np.linalg.pinv(S-np.reshape(np.mean(S,1),(r,1))))\n",
    "        indmax=np.argmax(np.abs(G),1)\n",
    "    else:\n",
    "        G=np.dot(Out-np.reshape(np.mean(Out,1),(r,1)),np.linalg.pinv(S-np.reshape(np.mean(S,1),(r,1))))\n",
    "        indmax = np.arange(0,r)\n",
    "        \n",
    "    GG=np.zeros((r,r))\n",
    "    for kk in range(r):\n",
    "        GG[kk,indmax[kk]]=np.dot(Out[kk,:] - Outmean[kk], S[indmax[kk],:].T - Smean[indmax[kk]])/np.dot(S[indmax[kk],:] - Smean[indmax[kk]], S[indmax[kk],:].T - Smean[indmax[kk]])#(G[kk,indmax[kk]])\n",
    "\n",
    "    ZZ = GG @ (S-np.reshape(Smean,(r,1))) + np.reshape(Outmean,(r,1))\n",
    "    E=Out-ZZ\n",
    "    MSE=np.linalg.norm(E,'fro')**2\n",
    "    SigPow=np.linalg.norm(ZZ,'fro')**2\n",
    "    SINR=(SigPow/MSE)\n",
    "    return SINR,SigPow,MSE,G\n",
    "\n",
    "@njit\n",
    "def CalculateSINRjit(Out,S, compute_permutation = True):\n",
    "    def mean_numba(a):\n",
    "        res = []\n",
    "        for i in range(a.shape[0]):\n",
    "            res.append(a[i, :].mean())\n",
    "\n",
    "        return np.array(res)\n",
    "    \n",
    "    r=S.shape[0]\n",
    "    Smean = mean_numba(S)\n",
    "    Outmean = mean_numba(Out)\n",
    "    if compute_permutation:\n",
    "        G=np.dot(Out-np.reshape(Outmean,(r,1)),np.linalg.pinv(S-np.reshape(Smean,(r,1))))\n",
    "        #G = np.linalg.lstsq((S-np.reshape(Smean,(r,1))).T, (Out-np.reshape(Outmean,(r,1))).T)[0]\n",
    "        indmax = np.abs(G).argmax(1).astype(np.int64)\n",
    "    else:\n",
    "        G=np.dot(Out-np.reshape(Outmean,(r,1)),np.linalg.pinv(S-np.reshape(Smean,(r,1))))\n",
    "        #G = np.linalg.lstsq((S-np.reshape(Smean,(r,1))).T, (Out-np.reshape(Outmean,(r,1))).T)[0]\n",
    "        indmax = np.arange(0,r)\n",
    "\n",
    "    GG=np.zeros((r,r))\n",
    "    for kk in range(r):\n",
    "        GG[kk,indmax[kk]]=np.dot(Out[kk,:] - Outmean[kk], S[indmax[kk],:].T - Smean[indmax[kk]])/np.dot(S[indmax[kk],:] - Smean[indmax[kk]], S[indmax[kk],:].T - Smean[indmax[kk]])#(G[kk,indmax[kk]])\n",
    "\n",
    "    ZZ = GG @ (S-np.reshape(Smean,(r,1))) + np.reshape(Outmean,(r,1))\n",
    "    E = Out - ZZ\n",
    "    MSE = np.linalg.norm(E)**2\n",
    "    SigPow = np.linalg.norm(ZZ)**2\n",
    "    SINR = (SigPow/MSE)\n",
    "    return SINR,SigPow,MSE,G"
   ]
  },
  {
   "cell_type": "code",
   "execution_count": 33,
   "id": "4c2602e0",
   "metadata": {},
   "outputs": [
    {
     "data": {
      "text/plain": [
       "1.7936506102875025e-15"
      ]
     },
     "execution_count": 33,
     "metadata": {},
     "output_type": "execute_result"
    }
   ],
   "source": [
    "np.linalg.norm(CalculateSINRjit(Snoisy,S)[-1] - CalculateSINR(Snoisy,S)[-1])"
   ]
  },
  {
   "cell_type": "code",
   "execution_count": 36,
   "id": "99e8eb42",
   "metadata": {},
   "outputs": [
    {
     "name": "stdout",
     "output_type": "stream",
     "text": [
      "699 ms ± 147 ms per loop (mean ± std. dev. of 7 runs, 1 loop each)\n"
     ]
    }
   ],
   "source": [
    "%timeit CalculateSINRjit(Snoisy,S)"
   ]
  },
  {
   "cell_type": "code",
   "execution_count": 35,
   "id": "df741c74",
   "metadata": {},
   "outputs": [
    {
     "name": "stdout",
     "output_type": "stream",
     "text": [
      "300 ms ± 2.49 ms per loop (mean ± std. dev. of 7 runs, 1 loop each)\n"
     ]
    }
   ],
   "source": [
    "%timeit CalculateSINR(Snoisy,S)"
   ]
  },
  {
   "cell_type": "code",
   "execution_count": 53,
   "id": "1e1ed01f",
   "metadata": {},
   "outputs": [],
   "source": [
    "@jit(parallel = True)\n",
    "def outer_prod_broadcasting_jit(A, B):\n",
    "    \"\"\"Broadcasting trick\"\"\"\n",
    "    return A[...,None]*B[:,None]\n",
    "\n",
    "def find_permutation_between_source_and_estimation(S,Y):\n",
    "    \"\"\"\n",
    "    S    : Original source matrix\n",
    "    Y    : Matrix of estimations of sources (after BSS or ICA algorithm)\n",
    "    \n",
    "    return the permutation of the source seperation algorithm\n",
    "    \"\"\"\n",
    "    \n",
    "    # perm = np.argmax(np.abs(np.corrcoef(S.T,Y.T) - np.eye(2*S.shape[1])),axis = 0)[S.shape[1]:]\n",
    "    # perm = np.argmax(np.abs(np.corrcoef(Y.T,S.T) - np.eye(2*S.shape[1])),axis = 0)[S.shape[1]:]\n",
    "    perm = np.argmax(np.abs(outer_prod_broadcasting(Y,S).sum(axis = 0))/(np.linalg.norm(S,axis = 0)*np.linalg.norm(Y,axis=0)), axis = 0)\n",
    "    return perm\n",
    "\n",
    "def signed_and_permutation_corrected_sources(S,Y):\n",
    "    perm = find_permutation_between_source_and_estimation(S,Y)\n",
    "    return np.sign((Y[:,perm] * S).sum(axis = 0)) * Y[:,perm]"
   ]
  },
  {
   "cell_type": "code",
   "execution_count": 54,
   "id": "3b377762",
   "metadata": {},
   "outputs": [
    {
     "name": "stdout",
     "output_type": "stream",
     "text": [
      "Input SNR is : 23.994731034308998\n"
     ]
    }
   ],
   "source": [
    "S = generate_correlated_copula_sources(rho = rho, df = 4, n_sources = NumberofSources, size_sources = N , \n",
    "                                       decreasing_correlation = True)\n",
    "S = 2 * S - 1\n",
    "\n",
    "Y = S[[2,1,0,3],:]\n",
    "Y, NoisePart = addWGN(Y, 24, return_noise = True)\n",
    "\n",
    "SNRinp = 10 * np.log10(np.sum(np.mean((Y - NoisePart)**2, axis = 1)) / np.sum(np.mean(NoisePart**2, axis = 1)))\n",
    "print(\"Input SNR is : {}\".format(SNRinp))"
   ]
  },
  {
   "cell_type": "code",
   "execution_count": 55,
   "id": "c34b8826",
   "metadata": {},
   "outputs": [
    {
     "data": {
      "text/plain": [
       "array([[[-6.20607790e-01, -3.55771856e-01,  5.04593164e-01,\n",
       "         -6.53838588e-01],\n",
       "        [ 4.19333880e-01,  2.40388850e-01, -3.40944818e-01,\n",
       "          4.41787352e-01],\n",
       "        [ 7.50545492e-01,  4.30260411e-01, -6.10240689e-01,\n",
       "          7.90733879e-01],\n",
       "        [ 7.99900030e-01,  4.58553571e-01, -6.50369032e-01,\n",
       "          8.42731134e-01]],\n",
       "\n",
       "       [[ 2.61191869e-01,  3.87944658e-01,  6.93774996e-01,\n",
       "          6.33866176e-01],\n",
       "        [ 1.61099330e-01,  2.39278600e-01,  4.27910286e-01,\n",
       "          3.90959400e-01],\n",
       "        [ 9.63370903e-02,  1.43088143e-01,  2.55889529e-01,\n",
       "          2.33792971e-01],\n",
       "        [ 2.65030466e-01,  3.93646073e-01,  7.03971037e-01,\n",
       "          6.43181768e-01]],\n",
       "\n",
       "       [[-7.01248803e-02,  5.81639816e-02,  3.32431936e-02,\n",
       "         -1.16174565e-01],\n",
       "        [-1.14771333e-01,  9.51952810e-02,  5.44081589e-02,\n",
       "         -1.90139499e-01],\n",
       "        [ 1.31382289e-01, -1.08972978e-01, -6.22826996e-02,\n",
       "          2.17658556e-01],\n",
       "        [ 2.31847457e-01, -1.92302235e-01, -1.09908921e-01,\n",
       "          3.84097303e-01]],\n",
       "\n",
       "       ...,\n",
       "\n",
       "       [[ 8.60851062e-01,  8.30884243e-01,  7.41089099e-01,\n",
       "          8.67765275e-01],\n",
       "        [ 9.85789558e-01,  9.51473544e-01,  8.48646098e-01,\n",
       "          9.93707256e-01],\n",
       "        [ 9.88679451e-01,  9.54262839e-01,  8.51133949e-01,\n",
       "          9.96620361e-01],\n",
       "        [ 9.62575876e-01,  9.29067947e-01,  8.28661914e-01,\n",
       "          9.70307126e-01]],\n",
       "\n",
       "       [[ 3.77779687e-03,  9.84165683e-02,  4.83792822e-01,\n",
       "          3.01757783e-02],\n",
       "        [ 1.00517553e-03,  2.61861423e-02,  1.28724948e-01,\n",
       "          8.02900606e-03],\n",
       "        [ 3.36660181e-04,  8.77043972e-03,  4.31134295e-02,\n",
       "          2.68912897e-03],\n",
       "        [ 3.38214745e-05,  8.81093814e-04,  4.33125103e-03,\n",
       "          2.70154630e-04]],\n",
       "\n",
       "       [[-5.27991504e-01,  2.98874229e-01,  4.86964796e-01,\n",
       "         -5.43168523e-01],\n",
       "        [-3.59243473e-01,  2.03352924e-01,  3.31329052e-01,\n",
       "         -3.69569861e-01],\n",
       "        [ 5.74144332e-01, -3.24999442e-01, -5.29531395e-01,\n",
       "          5.90648005e-01],\n",
       "        [ 6.06684297e-01, -3.43418976e-01, -5.59542896e-01,\n",
       "          6.24123326e-01]]])"
      ]
     },
     "execution_count": 55,
     "metadata": {},
     "output_type": "execute_result"
    }
   ],
   "source": [
    "outer_prod_broadcasting_jit(S.T, Y.T)"
   ]
  },
  {
   "cell_type": "code",
   "execution_count": 58,
   "id": "d714e3df",
   "metadata": {},
   "outputs": [
    {
     "name": "stdout",
     "output_type": "stream",
     "text": [
      "44.1 ms ± 1.45 ms per loop (mean ± std. dev. of 7 runs, 10 loops each)\n"
     ]
    }
   ],
   "source": [
    "%timeit outer_prod_broadcasting_jit(S.T, Y.T)"
   ]
  },
  {
   "cell_type": "code",
   "execution_count": 59,
   "id": "2a732795",
   "metadata": {},
   "outputs": [
    {
     "name": "stdout",
     "output_type": "stream",
     "text": [
      "43.5 ms ± 140 µs per loop (mean ± std. dev. of 7 runs, 10 loops each)\n"
     ]
    }
   ],
   "source": [
    "%timeit outer_prod_broadcasting(S.T, Y.T)"
   ]
  },
  {
   "cell_type": "code",
   "execution_count": 35,
   "id": "68f86031",
   "metadata": {},
   "outputs": [
    {
     "data": {
      "text/plain": [
       "24.005319336373987"
      ]
     },
     "execution_count": 35,
     "metadata": {},
     "output_type": "execute_result"
    }
   ],
   "source": [
    "10*np.log10(CalculateSINRjit(Y,S)[0])"
   ]
  },
  {
   "cell_type": "code",
   "execution_count": 36,
   "id": "67a649e6",
   "metadata": {},
   "outputs": [
    {
     "data": {
      "text/plain": [
       "24.00531933637399"
      ]
     },
     "execution_count": 36,
     "metadata": {},
     "output_type": "execute_result"
    }
   ],
   "source": [
    "10*np.log10(CalculateSINR(Y,S)[0])"
   ]
  }
 ],
 "metadata": {
  "kernelspec": {
   "display_name": "Python 3 (ipykernel)",
   "language": "python",
   "name": "python3"
  },
  "language_info": {
   "codemirror_mode": {
    "name": "ipython",
    "version": 3
   },
   "file_extension": ".py",
   "mimetype": "text/x-python",
   "name": "python",
   "nbconvert_exporter": "python",
   "pygments_lexer": "ipython3",
   "version": "3.8.12"
  }
 },
 "nbformat": 4,
 "nbformat_minor": 5
}
