{
 "cells": [
  {
   "cell_type": "code",
   "execution_count": 1,
   "id": "ca36a3ea",
   "metadata": {},
   "outputs": [],
   "source": [
    "import sys\n",
    "import os\n",
    "os.chdir(\"..\")\n",
    "os.chdir(\"..\")\n",
    "os.chdir(\"./src\")\n",
    "# sys.path.append(\"./src\")"
   ]
  },
  {
   "cell_type": "code",
   "execution_count": 2,
   "id": "fb5aa284",
   "metadata": {},
   "outputs": [],
   "source": [
    "import numpy as np\n",
    "import matplotlib.pyplot as plt\n",
    "import pandas as pd\n",
    "import scipy.io\n",
    "from tqdm import tqdm\n",
    "from scipy.stats import invgamma, chi2, t\n",
    "from WSMBSS import *\n",
    "from numba import njit\n",
    "from IPython import display\n",
    "import pylab as pl\n",
    "import mne \n",
    "from mne.preprocessing import ICA\n",
    "import warnings\n",
    "warnings.filterwarnings(\"ignore\")\n",
    "np.random.seed(1569)\n",
    "# %load_ext autoreload\n",
    "# %autoreload 2\n",
    "notebook_name = 'Antisparse_Copula'"
   ]
  },
  {
   "cell_type": "code",
   "execution_count": 3,
   "id": "59ddbba0",
   "metadata": {},
   "outputs": [
    {
     "name": "stdout",
     "output_type": "stream",
     "text": [
      "The following is the mixture matrix A\n"
     ]
    },
    {
     "data": {
      "text/latex": [
       "$\\displaystyle \\begin{bmatrix} \n",
       " 0.059 & 0.644 & 0.220 & 0.090 & \\\\\n",
       " 0.422 & 0.313 & 0.188 & 0.211 & \\\\\n",
       " 0.210 & -0.923 & 0.514 & 0.502 & \\\\\n",
       " 0.902 & -0.226 & 0.147 & -0.472 & \\\\\n",
       " -0.402 & -0.531 & -0.049 & -0.033 & \\\\\n",
       " 0.256 & -0.299 & 0.508 & 0.513 & \\\\\n",
       " -0.114 & 0.856 & -1.097 & 0.209 & \\\\\n",
       " -0.262 & -0.562 & 0.029 & -0.297 & \\\\\n",
       "\\end{bmatrix}$"
      ],
      "text/plain": [
       "<IPython.core.display.Math object>"
      ]
     },
     "metadata": {},
     "output_type": "display_data"
    },
    {
     "name": "stdout",
     "output_type": "stream",
     "text": [
      "Input SNR is : 30.002407782786484\n"
     ]
    }
   ],
   "source": [
    "rho = 0.6\n",
    "N = 500000\n",
    "NumberofSources = 4\n",
    "NumberofMixtures = 8\n",
    "\n",
    "M = NumberofMixtures\n",
    "r = NumberofSources\n",
    "\n",
    "SNR = 30 # dB\n",
    "NoiseAmp = (10 ** (-SNR/20))# * np.sqrt(NumberofSources)\n",
    "\n",
    "S = generate_correlated_copula_sources(rho = rho, df = 4, n_sources = NumberofSources, size_sources = N , \n",
    "                                       decreasing_correlation = True)\n",
    "S = 2 * S - 1\n",
    "INPUT_STD = 0.5\n",
    "A = np.random.standard_normal(size=(NumberofMixtures,NumberofSources))\n",
    "X = A @ S\n",
    "for MM in range(A.shape[0]):\n",
    "    stdx = np.std(X[MM,:])\n",
    "    A[MM,:] = A[MM,:]/stdx * INPUT_STD\n",
    "Xn = A @ S\n",
    "Noisecomp=np.random.randn(A.shape[0],S.shape[1])*np.power(10,-SNR/20)*INPUT_STD\n",
    "X=Xn+Noisecomp\n",
    "SNRinp = 20*np.log10(np.std(Xn)/np.std(Noisecomp))\n",
    "\n",
    "print(\"The following is the mixture matrix A\")\n",
    "display_matrix(A)\n",
    "print(\"Input SNR is : {}\".format(SNRinp))"
   ]
  },
  {
   "cell_type": "code",
   "execution_count": 4,
   "id": "7092f0b5",
   "metadata": {},
   "outputs": [],
   "source": [
    "if rho > 0.4:\n",
    "    MUS = 0.25\n",
    "    gamma_stop = 5*1e-4\n",
    "else:\n",
    "    MUS = 0.6\n",
    "    gamma_stop = 1e-3\n",
    "OUTPUT_COMP_TOL = 1e-6\n",
    "MAX_OUT_ITERATIONS= 3000\n",
    "LayerGains = [1,1]\n",
    "LayerMinimumGains = [0.2,0.2]\n",
    "LayerMaximumGains = [1e6,5]\n",
    "WScalings = [0.005,0.005]\n",
    "GamScalings = [2,1]\n",
    "zeta = 5*1e-5\n",
    "beta = 0.5\n",
    "muD = [1.125, 0.2]\n",
    "\n",
    "s_dim = S.shape[0]\n",
    "x_dim = X.shape[0]\n",
    "h_dim = s_dim\n",
    "samples = S.shape[1]\n",
    "W_HX = np.eye(h_dim, x_dim)\n",
    "W_YH = np.eye(s_dim, h_dim)"
   ]
  },
  {
   "cell_type": "code",
   "execution_count": 5,
   "id": "1b719ee4",
   "metadata": {},
   "outputs": [],
   "source": [
    "debug_iteration_point = 10000\n",
    "model = OnlineWSMBSS(s_dim = s_dim, x_dim = x_dim, h_dim = h_dim, \n",
    "                        gamma_start = MUS, gamma_stop = gamma_stop, beta = beta, zeta = zeta, \n",
    "                        muD = muD,WScalings = WScalings, GamScalings = GamScalings,\n",
    "                        W_HX = W_HX, W_YH = W_YH,\n",
    "                        DScalings = LayerGains, LayerMinimumGains = LayerMinimumGains,\n",
    "                        LayerMaximumGains = LayerMaximumGains,neural_OUTPUT_COMP_TOL = OUTPUT_COMP_TOL,\n",
    "                        set_ground_truth = True, S = S, A = A)\n",
    "\n",
    "# modelWSM.fit_batch_antisparse(X, n_epochs = 1, \n",
    "#                                 neural_lr_start = 0.75,\n",
    "#                                 neural_lr_stop = 0.05,\n",
    "#                                 debug_iteration_point = debug_iteration_point,\n",
    "#                                 plot_in_jupyter = True,\n",
    "#                                 )"
   ]
  },
  {
   "cell_type": "code",
   "execution_count": 6,
   "id": "6bd540ec",
   "metadata": {},
   "outputs": [],
   "source": [
    "@njit\n",
    "def run_neural_dynamics_antisparse_jit(x_current, h, y, M_H, M_Y, W_HX, W_YH, D1, D2, beta, zeta, \n",
    "                                       neural_dynamic_iterations, lr_start, lr_stop, OUTPUT_COMP_TOL):\n",
    "\n",
    "    Gamma_H = np.diag(np.diag(M_H))\n",
    "    M_hat_H = M_H - Gamma_H\n",
    "\n",
    "    Gamma_Y = np.diag(np.diag(M_Y))\n",
    "    M_hat_Y = M_Y - Gamma_Y\n",
    "\n",
    "    v = ((1 - beta) * Gamma_H + beta * D1 @ Gamma_H @ D1) @ h\n",
    "    u = Gamma_Y @ D2 @ y\n",
    "\n",
    "    PreviousMembraneVoltages = {'v': np.zeros_like(v), 'u': np.zeros_like(u)}\n",
    "    MembraneVoltageNotSettled = 1\n",
    "    OutputCounter = 0\n",
    "    while MembraneVoltageNotSettled & (OutputCounter < neural_dynamic_iterations):\n",
    "        OutputCounter += 1\n",
    "        MUV = max(lr_start/(1+OutputCounter*0.005), lr_stop)\n",
    "\n",
    "        delv = -v + (1 - zeta) * beta * D1 @ W_HX @ x_current\n",
    "        delv = delv - ((1 - zeta) * (1 - beta) * M_hat_H  + (1- zeta) * beta * D1 @ M_hat_H @ D1) @ h\n",
    "        delv = delv + (1 - zeta) * (1 - beta) * W_YH.T @ D2 @ y\n",
    "        v = v + MUV * delv\n",
    "        h = v / np.diag(Gamma_H * ((1 - zeta) * (1 - beta) + (1 - zeta) * beta * D1 ** 2))\n",
    "\n",
    "        delu = -u + W_YH @ h\n",
    "        delu = delu - M_hat_Y @ D2 @ y\n",
    "        u = u + (MUV) * delu\n",
    "        y = u / np.diag(Gamma_Y * (D2))\n",
    "        y = y*(y>=-1.0)*(y<=1.0)+(y>1.0)*1.0-1.0*(y<-1.0)\n",
    "\n",
    "\n",
    "        MembraneVoltageNotSettled = 0\n",
    "        if (np.linalg.norm(v - PreviousMembraneVoltages['v'])/np.linalg.norm(v) > OUTPUT_COMP_TOL) | (np.linalg.norm(u - PreviousMembraneVoltages['u'])/np.linalg.norm(u) > OUTPUT_COMP_TOL):\n",
    "            MembraneVoltageNotSettled = 1\n",
    "        PreviousMembraneVoltages['v'] = v\n",
    "        PreviousMembraneVoltages['u'] = u\n",
    "\n",
    "    return h,y, OutputCounter\n",
    "\n",
    "\n",
    "@njit\n",
    "def run_neural_dynamics_antisparse_jitV2(x_current, h, y, M_H, M_Y, W_HX, W_YH, D1, D2, beta, zeta, \n",
    "                                         neural_dynamic_iterations, lr_start, lr_stop, OUTPUT_COMP_TOL):\n",
    "    \n",
    "    Gamma_H = np.diag(np.diag(M_H))\n",
    "    M_hat_H = M_H - Gamma_H\n",
    "\n",
    "    Gamma_Y = np.diag(np.diag(M_Y))\n",
    "    M_hat_Y = M_Y - Gamma_Y\n",
    "\n",
    "    v = ((1 - beta) * Gamma_H + beta * D1 @ Gamma_H @ D1) @ h\n",
    "    u = Gamma_Y @ D2 @ y\n",
    "    \n",
    "    mat_factor1 = (1 - zeta) * beta * D1 @ W_HX\n",
    "    mat_factor2 = ((1 - zeta) * (1 - beta) * M_hat_H  + (1- zeta) * beta * D1 @ M_hat_H @ D1)\n",
    "    mat_factor3 = (1 - zeta) * (1 - beta) * W_YH.T @ D2\n",
    "    mat_factor4 = (1 - zeta) * Gamma_H * ((1 - beta) + beta * D1 ** 2)\n",
    "    mat_factor5 = M_hat_Y @ D2\n",
    "    mat_factor6 = Gamma_Y * (D2)\n",
    "    \n",
    "    PreviousMembraneVoltages = {'v': np.zeros_like(v), 'u': np.zeros_like(u)}\n",
    "    MembraneVoltageNotSettled = 1\n",
    "    OutputCounter = 0\n",
    "    while MembraneVoltageNotSettled & (OutputCounter < neural_dynamic_iterations):\n",
    "        OutputCounter += 1\n",
    "        MUV = max(lr_start/(1+OutputCounter*0.005), lr_stop)\n",
    "\n",
    "        delv = -v + mat_factor1 @ x_current\n",
    "        delv = delv - mat_factor2 @ h\n",
    "        delv = delv + mat_factor3 @ y\n",
    "        v = v + MUV * delv\n",
    "        h = v / np.diag(mat_factor4)\n",
    "\n",
    "        delu = -u + W_YH @ h\n",
    "        delu = delu - mat_factor5 @ y\n",
    "        u = u + (MUV) * delu\n",
    "        y = u / np.diag(mat_factor6)\n",
    "        y = y*(y>=-1.0)*(y<=1.0)+(y>1.0)*1.0-1.0*(y<-1.0)\n",
    "\n",
    "\n",
    "        MembraneVoltageNotSettled = 0\n",
    "        if (np.linalg.norm(v - PreviousMembraneVoltages['v'])/np.linalg.norm(v) > OUTPUT_COMP_TOL) | (np.linalg.norm(u - PreviousMembraneVoltages['u'])/np.linalg.norm(u) > OUTPUT_COMP_TOL):\n",
    "            MembraneVoltageNotSettled = 1\n",
    "        PreviousMembraneVoltages['v'] = v\n",
    "        PreviousMembraneVoltages['u'] = u\n",
    "\n",
    "    return h,y, OutputCounter\n",
    "\n",
    "\n",
    "@njit\n",
    "def run_neural_dynamics_antisparse_jitV3(x_current, h, y, M_H, M_Y, W_HX, W_YH, D1, D2, beta, zeta, \n",
    "                                         neural_dynamic_iterations, lr_start, lr_stop, OUTPUT_COMP_TOL):\n",
    "    \n",
    "#     @njit\n",
    "    def ddiag(A):\n",
    "        return np.diag(np.diag(A))\n",
    "    \n",
    "    Gamma_H = ddiag(M_H)\n",
    "    M_hat_H = M_H - Gamma_H\n",
    "\n",
    "    Gamma_Y = ddiag(M_Y)\n",
    "    M_hat_Y = M_Y - Gamma_Y\n",
    "    \n",
    "    mat_factor1 = (1 - zeta) * beta * D1 @ W_HX\n",
    "    mat_factor2 = ((1 - zeta) * (1 - beta) * M_hat_H  + (1- zeta) * beta * D1 @ M_hat_H @ D1)\n",
    "    mat_factor3 = (1 - zeta) * (1 - beta) * W_YH.T @ D2\n",
    "    mat_factor4 = (1 - zeta) * Gamma_H * ((1 - beta) + beta * D1 ** 2)\n",
    "    mat_factor5 = M_hat_Y @ D2\n",
    "    mat_factor6 = Gamma_Y * (D2)\n",
    "    \n",
    "\n",
    "    v = mat_factor4 @ h\n",
    "    u = mat_factor6 @ y\n",
    "    \n",
    "    PreviousMembraneVoltages = {'v': np.zeros_like(v), 'u': np.zeros_like(u)}\n",
    "    MembraneVoltageNotSettled = 1\n",
    "    OutputCounter = 0\n",
    "    while MembraneVoltageNotSettled & (OutputCounter < neural_dynamic_iterations):\n",
    "        OutputCounter += 1\n",
    "        MUV = max(lr_start/(1+OutputCounter*0.005), lr_stop)\n",
    "\n",
    "        delv = -v + mat_factor1 @ x_current - mat_factor2 @ h + mat_factor3 @ y\n",
    "        v = v + MUV * delv\n",
    "        h = v / np.diag(mat_factor4)\n",
    "\n",
    "        delu = -u + W_YH @ h - mat_factor5 @ y\n",
    "        u = u + MUV * delu\n",
    "        y = u / np.diag(mat_factor6)\n",
    "        y = y*(y>=-1.0)*(y<=1.0)+(y>1.0)*1.0-1.0*(y<-1.0)\n",
    "\n",
    "        MembraneVoltageNotSettled = 0\n",
    "        if (np.linalg.norm(v - PreviousMembraneVoltages['v'])/np.linalg.norm(v) > OUTPUT_COMP_TOL) | (np.linalg.norm(u - PreviousMembraneVoltages['u'])/np.linalg.norm(u) > OUTPUT_COMP_TOL):\n",
    "            MembraneVoltageNotSettled = 1\n",
    "        PreviousMembraneVoltages['v'] = v\n",
    "        PreviousMembraneVoltages['u'] = u\n",
    "\n",
    "    return h,y, OutputCounter\n",
    "\n",
    "@njit\n",
    "def run_neural_dynamics_antisparse_jitV4(x_current, h, y, M_H, M_Y, W_HX, W_YH, D1, D2, beta, zeta, \n",
    "                                         neural_dynamic_iterations, lr_start, lr_stop, OUTPUT_COMP_TOL):\n",
    "    \n",
    "    def ddiag(A):\n",
    "        return np.diag(np.diag(A))\n",
    "    \n",
    "    def offdiag(A, return_diag = False):\n",
    "        if return_diag:\n",
    "            diag = np.diag(A)\n",
    "            return A - np.diag(diag), diag\n",
    "        else:\n",
    "            return A - np.diag(diag)\n",
    "        \n",
    "#     Gamma_H = ddiag(M_H)\n",
    "#     M_hat_H = M_H - Gamma_H\n",
    "\n",
    "#     Gamma_Y = ddiag(M_Y)\n",
    "#     M_hat_Y = M_Y - Gamma_Y\n",
    "    \n",
    "    M_hat_H, Gamma_H = offdiag(M_H, True)\n",
    "    M_hat_Y, Gamma_Y = offdiag(M_Y, True)\n",
    "    \n",
    "    mat_factor1 = (1 - zeta) * beta * (D1 * W_HX)\n",
    "    mat_factor2 = ((1 - zeta) * (1 - beta) * M_hat_H  + (1- zeta) * beta * ((D1 * M_hat_H) * D1.T))\n",
    "    mat_factor3 = (1 - zeta) * (1 - beta) * (W_YH.T * D2.T)\n",
    "    mat_factor4 = (1 - zeta) * Gamma_H * ((1 - beta) + beta * D1 ** 2)\n",
    "    mat_factor5 = M_hat_Y * D2.T\n",
    "    mat_factor6 = Gamma_Y * D2\n",
    "    \n",
    "\n",
    "    v = mat_factor4 @ h\n",
    "    u = mat_factor6 @ y\n",
    "    \n",
    "    PreviousMembraneVoltages = {'v': np.zeros_like(v), 'u': np.zeros_like(u)}\n",
    "    MembraneVoltageNotSettled = 1\n",
    "    OutputCounter = 0\n",
    "    while MembraneVoltageNotSettled & (OutputCounter < neural_dynamic_iterations):\n",
    "        OutputCounter += 1\n",
    "        MUV = max(lr_start/(1+OutputCounter*0.005), lr_stop)\n",
    "\n",
    "        delv = -v + mat_factor1 @ x_current - mat_factor2 @ h + mat_factor3 @ y\n",
    "        v = v + MUV * delv\n",
    "        h = v / np.diag(mat_factor4)\n",
    "\n",
    "        delu = -u + W_YH @ h - mat_factor5 @ y\n",
    "        u = u + MUV * delu\n",
    "        y = u / np.diag(mat_factor6)\n",
    "        y = np.clip(y, -1, 1)\n",
    "\n",
    "        MembraneVoltageNotSettled = 0\n",
    "        if (np.linalg.norm(v - PreviousMembraneVoltages['v'])/np.linalg.norm(v) > OUTPUT_COMP_TOL) | (np.linalg.norm(u - PreviousMembraneVoltages['u'])/np.linalg.norm(u) > OUTPUT_COMP_TOL):\n",
    "            MembraneVoltageNotSettled = 1\n",
    "        PreviousMembraneVoltages['v'] = v\n",
    "        PreviousMembraneVoltages['u'] = u\n",
    "\n",
    "    return h,y, OutputCounter\n",
    "\n",
    "@njit( parallel=True )\n",
    "def run_neural_dynamics_antisparse_jitV5(x_current, h, y, M_H, M_Y, W_HX, W_YH, D1, D2, beta, zeta, \n",
    "                                         neural_dynamic_iterations, lr_start, lr_stop, OUTPUT_COMP_TOL):\n",
    "    \n",
    "    def ddiag(A):\n",
    "        return np.diag(np.diag(A))\n",
    "    \n",
    "    def offdiag(A, return_diag = False):\n",
    "        if return_diag:\n",
    "            diag = np.diag(A)\n",
    "            return A - np.diag(diag), diag\n",
    "        else:\n",
    "            return A - np.diag(diag)\n",
    "        \n",
    "#     Gamma_H = ddiag(M_H)\n",
    "#     M_hat_H = M_H - Gamma_H\n",
    "\n",
    "#     Gamma_Y = ddiag(M_Y)\n",
    "#     M_hat_Y = M_Y - Gamma_Y\n",
    "    \n",
    "    M_hat_H, Gamma_H = offdiag(M_H, True)\n",
    "    M_hat_Y, Gamma_Y = offdiag(M_Y, True)\n",
    "    \n",
    "    mat_factor1 = (1 - zeta) * beta * (D1 * W_HX)\n",
    "    mat_factor2 = ((1 - zeta) * (1 - beta) * M_hat_H  + (1- zeta) * beta * ((D1 * M_hat_H) * D1.T))\n",
    "    mat_factor3 = (1 - zeta) * (1 - beta) * (W_YH.T * D2.T)\n",
    "    mat_factor4 = (1 - zeta) * Gamma_H * ((1 - beta) + beta * D1 ** 2)\n",
    "    mat_factor5 = M_hat_Y * D2.T\n",
    "    mat_factor6 = Gamma_Y * D2\n",
    "    \n",
    "\n",
    "    v = mat_factor4 @ h\n",
    "    u = mat_factor6 @ y\n",
    "    \n",
    "    PreviousMembraneVoltages = {'v': np.zeros_like(v), 'u': np.zeros_like(u)}\n",
    "    MembraneVoltageNotSettled = 1\n",
    "    OutputCounter = 0\n",
    "    while MembraneVoltageNotSettled & (OutputCounter < neural_dynamic_iterations):\n",
    "        OutputCounter += 1\n",
    "        MUV = max(lr_start/(1+OutputCounter*0.005), lr_stop)\n",
    "\n",
    "        delv = -v + mat_factor1 @ x_current - mat_factor2 @ h + mat_factor3 @ y\n",
    "        v = v + MUV * delv\n",
    "        h = v / np.diag(mat_factor4)\n",
    "\n",
    "        delu = -u + W_YH @ h - mat_factor5 @ y\n",
    "        u = u + MUV * delu\n",
    "        y = u / np.diag(mat_factor6)\n",
    "        y = np.clip(y, -1, 1)\n",
    "\n",
    "        MembraneVoltageNotSettled = 0\n",
    "        if (np.linalg.norm(v - PreviousMembraneVoltages['v'])/np.linalg.norm(v) > OUTPUT_COMP_TOL) | (np.linalg.norm(u - PreviousMembraneVoltages['u'])/np.linalg.norm(u) > OUTPUT_COMP_TOL):\n",
    "            MembraneVoltageNotSettled = 1\n",
    "        PreviousMembraneVoltages['v'] = v\n",
    "        PreviousMembraneVoltages['u'] = u\n",
    "\n",
    "    return h,y, OutputCounter"
   ]
  },
  {
   "cell_type": "code",
   "execution_count": 7,
   "id": "1a39c6b9",
   "metadata": {},
   "outputs": [],
   "source": [
    "W_HX = model.W_HX\n",
    "W_YH = model.W_YH\n",
    "M_H = model.M_H\n",
    "M_Y = model.M_Y\n",
    "D1 = model.D1\n",
    "D2 = model.D2\n",
    "d1 = np.diag(D1).reshape(-1,1)\n",
    "d2 = np.diag(D2).reshape(-1,1)\n",
    "neural_dynamic_iterations = 750\n",
    "lr_start = 0.75\n",
    "lr_stop = 0.05\n",
    "OUTPUT_COMP_TOL = 1e-6\n",
    "\n",
    "def ddiag(A):\n",
    "    return np.diag(np.diag(A))\n",
    "\n",
    "Gamma_H = ddiag(M_H)\n",
    "M_hat_H = M_H - Gamma_H\n",
    "\n",
    "Gamma_Y = ddiag(M_Y)\n",
    "M_hat_Y = M_Y - Gamma_Y\n",
    "    \n",
    "    \n",
    "H = np.zeros((h_dim,samples))\n",
    "Y = np.zeros((s_dim,samples))\n",
    "\n",
    "x_current  = X[:,0] # Take one input\n",
    "\n",
    "y = Y[:,0]\n",
    "\n",
    "h = H[:,0]"
   ]
  },
  {
   "cell_type": "code",
   "execution_count": 23,
   "id": "9dc425b8",
   "metadata": {},
   "outputs": [],
   "source": [
    "h1,y1,_ = run_neural_dynamics_antisparse_jit(x_current, h, y, M_H, M_Y, W_HX, W_YH, D1, D2, beta, zeta, \n",
    "                                    neural_dynamic_iterations, lr_start, lr_stop, OUTPUT_COMP_TOL)\n",
    "h2,y2,_ =run_neural_dynamics_antisparse_jitV2(x_current, h, y, M_H, M_Y, W_HX, W_YH, D1, D2, beta, zeta, \n",
    "                                    neural_dynamic_iterations, lr_start, lr_stop, OUTPUT_COMP_TOL)\n",
    "h3,y3,_ =run_neural_dynamics_antisparse_jitV3(x_current, h, y, M_H, M_Y, W_HX, W_YH, D1, D2, beta, zeta, \n",
    "                                    neural_dynamic_iterations, lr_start, lr_stop, OUTPUT_COMP_TOL)\n",
    "h4,y4,_ =run_neural_dynamics_antisparse_jitV4(x_current, h, y, M_H, M_Y, W_HX, W_YH, d1, d2, beta, zeta, \n",
    "                                    neural_dynamic_iterations, lr_start, lr_stop, OUTPUT_COMP_TOL)\n",
    "\n",
    "# h5,y5,_ =run_neural_dynamics_antisparse_jitV5(x_current, h, y, M_H, M_Y, W_HX, W_YH, d1, d2, beta, zeta, \n",
    "#                                     neural_dynamic_iterations, lr_start, lr_stop, OUTPUT_COMP_TOL)"
   ]
  },
  {
   "cell_type": "code",
   "execution_count": 9,
   "id": "3d14bbc1",
   "metadata": {},
   "outputs": [
    {
     "data": {
      "text/plain": [
       "(0.0, 0.0, 0.0, 0.0, 0.0, 0.0, 0.0, 0.0)"
      ]
     },
     "execution_count": 9,
     "metadata": {},
     "output_type": "execute_result"
    }
   ],
   "source": [
    "np.linalg.norm(h1 -h2),np.linalg.norm(y1 -y2),np.linalg.norm(h2 -h3),np.linalg.norm(y2 -y3),np.linalg.norm(h3 -h4),np.linalg.norm(y3 -y4)"
   ]
  },
  {
   "cell_type": "code",
   "execution_count": 10,
   "id": "24976691",
   "metadata": {},
   "outputs": [
    {
     "name": "stdout",
     "output_type": "stream",
     "text": [
      "197 µs ± 27.7 µs per loop (mean ± std. dev. of 7 runs, 1,000 loops each)\n"
     ]
    }
   ],
   "source": [
    "%timeit run_neural_dynamics_antisparse_jit(x_current, h, y, M_H, M_Y, W_HX, W_YH, D1, D2, beta, zeta, neural_dynamic_iterations, lr_start, lr_stop, OUTPUT_COMP_TOL)"
   ]
  },
  {
   "cell_type": "code",
   "execution_count": 11,
   "id": "e5877842",
   "metadata": {},
   "outputs": [
    {
     "name": "stdout",
     "output_type": "stream",
     "text": [
      "104 µs ± 82.9 ns per loop (mean ± std. dev. of 7 runs, 10,000 loops each)\n"
     ]
    }
   ],
   "source": [
    "%timeit run_neural_dynamics_antisparse_jitV4(x_current, h, y, M_H, M_Y, W_HX, W_YH, d1, d2, beta, zeta, neural_dynamic_iterations, lr_start, lr_stop, OUTPUT_COMP_TOL)"
   ]
  },
  {
   "cell_type": "code",
   "execution_count": 12,
   "id": "4c5158cd",
   "metadata": {},
   "outputs": [
    {
     "name": "stdout",
     "output_type": "stream",
     "text": [
      "149 µs ± 20.7 µs per loop (mean ± std. dev. of 7 runs, 1,000 loops each)\n"
     ]
    }
   ],
   "source": [
    "%timeit run_neural_dynamics_antisparse_jitV2(x_current, h, y, M_H, M_Y, W_HX, W_YH, D1, D2, beta, zeta, neural_dynamic_iterations, lr_start, lr_stop, OUTPUT_COMP_TOL)"
   ]
  },
  {
   "cell_type": "code",
   "execution_count": 13,
   "id": "320435df",
   "metadata": {},
   "outputs": [
    {
     "name": "stdout",
     "output_type": "stream",
     "text": [
      "109 µs ± 98.4 ns per loop (mean ± std. dev. of 7 runs, 10,000 loops each)\n"
     ]
    }
   ],
   "source": [
    "%timeit run_neural_dynamics_antisparse_jitV3(x_current, h, y, M_H, M_Y, W_HX, W_YH, D1, D2, beta, zeta, neural_dynamic_iterations, lr_start, lr_stop, OUTPUT_COMP_TOL)"
   ]
  },
  {
   "cell_type": "code",
   "execution_count": 24,
   "id": "966492db",
   "metadata": {},
   "outputs": [],
   "source": [
    "# %timeit run_neural_dynamics_antisparse_jitV5(x_current, h, y, M_H, M_Y, W_HX, W_YH, d1, d2, beta, zeta, neural_dynamic_iterations, lr_start, lr_stop, OUTPUT_COMP_TOL)"
   ]
  },
  {
   "cell_type": "code",
   "execution_count": 25,
   "id": "d6c67066",
   "metadata": {},
   "outputs": [
    {
     "data": {
      "text/plain": [
       "(4, 1)"
      ]
     },
     "execution_count": 25,
     "metadata": {},
     "output_type": "execute_result"
    }
   ],
   "source": [
    "d1.shape"
   ]
  },
  {
   "cell_type": "code",
   "execution_count": 29,
   "id": "68d77db6",
   "metadata": {},
   "outputs": [
    {
     "data": {
      "text/plain": [
       "(4,)"
      ]
     },
     "execution_count": 29,
     "metadata": {},
     "output_type": "execute_result"
    }
   ],
   "source": [
    "np.diag(D1).shape"
   ]
  }
 ],
 "metadata": {
  "kernelspec": {
   "display_name": "Python 3 (ipykernel)",
   "language": "python",
   "name": "python3"
  },
  "language_info": {
   "codemirror_mode": {
    "name": "ipython",
    "version": 3
   },
   "file_extension": ".py",
   "mimetype": "text/x-python",
   "name": "python",
   "nbconvert_exporter": "python",
   "pygments_lexer": "ipython3",
   "version": "3.8.12"
  }
 },
 "nbformat": 4,
 "nbformat_minor": 5
}
