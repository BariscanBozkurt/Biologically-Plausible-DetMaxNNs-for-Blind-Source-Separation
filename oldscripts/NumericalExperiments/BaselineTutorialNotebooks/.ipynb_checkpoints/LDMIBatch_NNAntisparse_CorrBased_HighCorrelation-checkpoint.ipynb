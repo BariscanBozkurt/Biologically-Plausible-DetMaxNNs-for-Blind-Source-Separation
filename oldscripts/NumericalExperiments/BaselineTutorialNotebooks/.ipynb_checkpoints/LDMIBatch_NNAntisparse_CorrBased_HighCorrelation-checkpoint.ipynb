{
 "cells": [
  {
   "cell_type": "code",
   "execution_count": 1,
   "id": "21d94d44",
   "metadata": {},
   "outputs": [
    {
     "ename": "FileNotFoundError",
     "evalue": "[Errno 2] No such file or directory: './src'",
     "output_type": "error",
     "traceback": [
      "\u001b[0;31m---------------------------------------------------------------------------\u001b[0m",
      "\u001b[0;31mFileNotFoundError\u001b[0m                         Traceback (most recent call last)",
      "Input \u001b[0;32mIn [1]\u001b[0m, in \u001b[0;36m<module>\u001b[0;34m\u001b[0m\n\u001b[1;32m      2\u001b[0m \u001b[38;5;28;01mimport\u001b[39;00m \u001b[38;5;21;01mos\u001b[39;00m\n\u001b[1;32m      3\u001b[0m os\u001b[38;5;241m.\u001b[39mchdir(\u001b[38;5;124m\"\u001b[39m\u001b[38;5;124m..\u001b[39m\u001b[38;5;124m\"\u001b[39m)\n\u001b[0;32m----> 4\u001b[0m \u001b[43mos\u001b[49m\u001b[38;5;241;43m.\u001b[39;49m\u001b[43mchdir\u001b[49m\u001b[43m(\u001b[49m\u001b[38;5;124;43m\"\u001b[39;49m\u001b[38;5;124;43m./src\u001b[39;49m\u001b[38;5;124;43m\"\u001b[39;49m\u001b[43m)\u001b[49m\n",
      "\u001b[0;31mFileNotFoundError\u001b[0m: [Errno 2] No such file or directory: './src'"
     ]
    }
   ],
   "source": [
    "import sys\n",
    "import os\n",
    "os.chdir(\"..\")\n",
    "os.chdir(\"..\")\n",
    "os.chdir(\"./src\")\n",
    "# sys.path.append(\"./src\")"
   ]
  },
  {
   "cell_type": "code",
   "execution_count": null,
   "id": "96d233ea",
   "metadata": {},
   "outputs": [],
   "source": [
    "from IPython import display\n",
    "from IPython.display import clear_output\n",
    "import pylab as pl\n",
    "import numpy as np\n",
    "import matplotlib.pyplot as plt\n",
    "from numba import njit, jit\n",
    "from time import time\n",
    "# from helpers import *\n",
    "from LDMIBSS import *\n",
    "# np.random.seed(250)\n",
    "%load_ext autoreload\n",
    "%autoreload 2"
   ]
  },
  {
   "cell_type": "code",
   "execution_count": null,
   "id": "f347c550",
   "metadata": {},
   "outputs": [],
   "source": [
    "N = 10000\n",
    "NumberofSources = 5\n",
    "NumberofMixtures = 8\n",
    "S = generate_correlated_copula_sources(rho = 0.7, df = 4, n_sources = NumberofSources, \n",
    "                                       size_sources = N , decreasing_correlation = False)\n",
    "\n",
    "print(\"The following is the correlation matrix of sources\")\n",
    "display_matrix(np.corrcoef(S))\n",
    "\n",
    "# Generate Mxr random mixing from i.i.d N(0,1)\n",
    "A = np.random.randn(NumberofMixtures,NumberofSources)\n",
    "X = np.dot(A,S)\n",
    "\n",
    "SNR = 30\n",
    "X, NoisePart = addWGN(X, SNR, return_noise = True)\n",
    "\n",
    "SNRinp = 10 * np.log10(np.sum(np.mean((X - NoisePart)**2, axis = 1)) / np.sum(np.mean(NoisePart**2, axis = 1)))\n",
    "print(\"The following is the mixture matrix A\")\n",
    "display_matrix(A)\n",
    "print(\"Input SNR is : {}\".format(SNRinp))"
   ]
  },
  {
   "cell_type": "code",
   "execution_count": null,
   "id": "83583247",
   "metadata": {},
   "outputs": [],
   "source": [
    "s_dim = S.shape[0]\n",
    "x_dim = X.shape[0]\n",
    "debug_iteration_point = 200\n",
    "model = LDMIBSS(s_dim = s_dim, x_dim = x_dim,\n",
    "                set_ground_truth = True, S = S, A = A)"
   ]
  },
  {
   "cell_type": "code",
   "execution_count": null,
   "id": "bb6210bf",
   "metadata": {
    "scrolled": false
   },
   "outputs": [],
   "source": [
    "model.fit_batch_nnantisparse(X, epsilon = 1e-5, mu_start = 100, n_iterations = 10000, \n",
    "                           method = \"correlation\", debug_iteration_point = debug_iteration_point,\n",
    "                           plot_in_jupyter = True)"
   ]
  },
  {
   "cell_type": "code",
   "execution_count": null,
   "id": "39afa10f",
   "metadata": {},
   "outputs": [],
   "source": [
    "mpl.rcParams['xtick.labelsize'] = 18\n",
    "mpl.rcParams['ytick.labelsize'] = 18\n",
    "plot_convergence_plot(model.SINR_list, xlabel = 'Number of Iterations / {}'.format(debug_iteration_point),\n",
    "                     ylabel = 'SINR (dB)', title = 'SINR Convergence Plot', colorcode = None, linewidth = 1.8)\n",
    "\n",
    "print('Final SINR: {}'.format(np.array(model.SINR_list[-1])))"
   ]
  },
  {
   "cell_type": "code",
   "execution_count": null,
   "id": "5859cc50",
   "metadata": {},
   "outputs": [],
   "source": [
    "W = model.W\n",
    "Y = W @ X\n",
    "10 * np.log10(CalculateSINR(Y, S)[0])"
   ]
  },
  {
   "cell_type": "code",
   "execution_count": null,
   "id": "c9f8a3d6",
   "metadata": {},
   "outputs": [],
   "source": [
    "Y = W @ X\n",
    "print(Y.shape, X.shape, S.shape)\n",
    "Y_ = signed_and_permutation_corrected_sources(S.T,Y.T)\n",
    "coef_ = (Y_ * S.T).sum(axis = 0) / (Y_ * Y_).sum(axis = 0)\n",
    "Y_ = coef_ * Y_\n",
    "snr(S.T, Y_)"
   ]
  },
  {
   "cell_type": "code",
   "execution_count": null,
   "id": "97cc5080",
   "metadata": {},
   "outputs": [],
   "source": [
    "Y = W @ X\n",
    "Y_ = signed_and_permutation_corrected_sources(S.T,Y.T).T\n",
    "subplot_1D_signals(X = Y_.T[0:100], title = 'Extracted Signals (Sign and Permutation Corrected)' ,figsize = (15.2,9), colorcode = None)\n",
    "subplot_1D_signals(X = S.T[0:100], title = 'Original Signals' ,figsize = (15.2,9), colorcode = None)"
   ]
  },
  {
   "cell_type": "code",
   "execution_count": null,
   "id": "d15c2710",
   "metadata": {},
   "outputs": [],
   "source": []
  }
 ],
 "metadata": {
  "kernelspec": {
   "display_name": "Python 3 (ipykernel)",
   "language": "python",
   "name": "python3"
  },
  "language_info": {
   "codemirror_mode": {
    "name": "ipython",
    "version": 3
   },
   "file_extension": ".py",
   "mimetype": "text/x-python",
   "name": "python",
   "nbconvert_exporter": "python",
   "pygments_lexer": "ipython3",
   "version": "3.8.12"
  }
 },
 "nbformat": 4,
 "nbformat_minor": 5
}
