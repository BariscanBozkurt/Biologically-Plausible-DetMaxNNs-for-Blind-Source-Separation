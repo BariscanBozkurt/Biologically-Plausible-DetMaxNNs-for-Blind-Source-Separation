{
 "cells": [
  {
   "cell_type": "markdown",
   "id": "8018a642",
   "metadata": {},
   "source": [
    "# Import Required Libraries"
   ]
  },
  {
   "cell_type": "code",
   "execution_count": 1,
   "id": "760582cd",
   "metadata": {},
   "outputs": [
    {
     "ename": "FileNotFoundError",
     "evalue": "[Errno 2] No such file or directory: './src'",
     "output_type": "error",
     "traceback": [
      "\u001b[0;31m---------------------------------------------------------------------------\u001b[0m",
      "\u001b[0;31mFileNotFoundError\u001b[0m                         Traceback (most recent call last)",
      "Input \u001b[0;32mIn [1]\u001b[0m, in \u001b[0;36m<module>\u001b[0;34m\u001b[0m\n\u001b[1;32m      2\u001b[0m \u001b[38;5;28;01mimport\u001b[39;00m \u001b[38;5;21;01mos\u001b[39;00m\n\u001b[1;32m      3\u001b[0m os\u001b[38;5;241m.\u001b[39mchdir(\u001b[38;5;124m\"\u001b[39m\u001b[38;5;124m..\u001b[39m\u001b[38;5;124m\"\u001b[39m)\n\u001b[0;32m----> 4\u001b[0m \u001b[43mos\u001b[49m\u001b[38;5;241;43m.\u001b[39;49m\u001b[43mchdir\u001b[49m\u001b[43m(\u001b[49m\u001b[38;5;124;43m\"\u001b[39;49m\u001b[38;5;124;43m./src\u001b[39;49m\u001b[38;5;124;43m\"\u001b[39;49m\u001b[43m)\u001b[49m\n",
      "\u001b[0;31mFileNotFoundError\u001b[0m: [Errno 2] No such file or directory: './src'"
     ]
    }
   ],
   "source": [
    "import sys\n",
    "import os\n",
    "os.chdir(\"..\")\n",
    "os.chdir(\"..\")\n",
    "os.chdir(\"./src\")\n",
    "# sys.path.append(\"./src\")"
   ]
  },
  {
   "cell_type": "code",
   "execution_count": null,
   "id": "3e77b841",
   "metadata": {},
   "outputs": [],
   "source": [
    "import numpy as np\n",
    "import matplotlib.pyplot as plt\n",
    "import pandas as pd\n",
    "import scipy.io\n",
    "from tqdm import tqdm\n",
    "from scipy.stats import invgamma, chi2, t\n",
    "from WSMBSS import *\n",
    "from numba import njit\n",
    "from IPython import display\n",
    "import pylab as pl\n",
    "import mne \n",
    "from mne.preprocessing import ICA\n",
    "import warnings\n",
    "warnings.filterwarnings(\"ignore\")\n",
    "np.random.seed(500)\n",
    "# %load_ext autoreload\n",
    "# %autoreload 2\n",
    "notebook_name = 'Antisparse_Copula'"
   ]
  },
  {
   "cell_type": "markdown",
   "id": "d0071175",
   "metadata": {},
   "source": [
    "# Source Generation and Mixing Scenario"
   ]
  },
  {
   "cell_type": "code",
   "execution_count": null,
   "id": "1351ebbf",
   "metadata": {},
   "outputs": [],
   "source": [
    "NumberofSources = 5\n",
    "NumberofMixtures = 10\n",
    "N = 5*1e5\n",
    "S = 2*np.random.uniform(size = (NumberofSources,int(N)))-1\n",
    "S = ProjectRowstoL1NormBall(S.T).T\n",
    "S = S*(S>=0)\n",
    "S = S #/ S.sum(axis = 0)\n",
    "# https://stackoverflow.com/questions/65154622/sample-uniformly-at-random-from-a-simplex-in-python\n",
    "S = np.random.exponential(scale=1.0, size=(NumberofSources,int(N)))\n",
    "S = S / np.sum(S, axis = 0)\n",
    "INPUT_STD = 0.17\n",
    "A = np.random.standard_normal(size=(NumberofMixtures,NumberofSources))\n",
    "X = A @ S\n",
    "for M in range(A.shape[0]):\n",
    "    stdx = np.std(X[M,:])\n",
    "    A[M,:] = A[M,:]/stdx * INPUT_STD\n",
    "\n",
    "SNR=30\n",
    "X = A @ S\n",
    "X, NoisePart = addWGN(X, SNR, return_noise = True)\n",
    "\n",
    "SNRinp = 10 * np.log10(np.sum(np.mean((X - NoisePart)**2, axis = 1)) / np.sum(np.mean(NoisePart**2, axis = 1)))\n",
    "\n",
    "print(\"The following is the mixture matrix A\")\n",
    "display_matrix(A)\n",
    "print(\"Input SNR is : {}\".format(SNRinp))\n",
    "\n",
    "plt.scatter(S[0,:], S[2,:])\n",
    "plt.show()"
   ]
  },
  {
   "cell_type": "markdown",
   "id": "bf42a1cf",
   "metadata": {},
   "source": [
    "# Visualize Generated Sources and Mixtures"
   ]
  },
  {
   "cell_type": "code",
   "execution_count": null,
   "id": "1f0df841",
   "metadata": {},
   "outputs": [],
   "source": [
    "subplot_1D_signals(S.T[0:100], title = 'Original Signals', figsize = (15.2,9), colorcode = None)\n",
    "subplot_1D_signals(X.T[0:100], title = 'Mixture Signals', figsize = (15,18), colorcode = None)"
   ]
  },
  {
   "cell_type": "markdown",
   "id": "6f3e665e",
   "metadata": {},
   "source": [
    "# Algorithm Hyperparameter Selection and Weight Initialization"
   ]
  },
  {
   "cell_type": "code",
   "execution_count": null,
   "id": "03a2b34e",
   "metadata": {},
   "outputs": [],
   "source": [
    "# MUS = 0.25\n",
    "# OUTPUT_COMP_TOL = 1e-5\n",
    "# MAX_OUT_ITERATIONS= 3000\n",
    "# LayerGains = [8,1]\n",
    "# LayerMinimumGains = [1e-6,0.5]\n",
    "# LayerMaximumGains = [1e6,2]\n",
    "# WScalings = [0.0033,0.0033]\n",
    "# GamScalings = [0.02,0.02]\n",
    "# zeta = 1e-5\n",
    "# beta = 0.5\n",
    "# muD = [1, 0.01]\n",
    "\n",
    "# s_dim = S.shape[0]\n",
    "# x_dim = X.shape[0]\n",
    "# h_dim = s_dim\n",
    "# samples = S.shape[1]\n",
    "\n",
    "MUS = 0.1\n",
    "OUTPUT_COMP_TOL = 1e-5\n",
    "MAX_OUT_ITERATIONS= 3000\n",
    "LayerGains = [8,1]\n",
    "LayerMinimumGains = [1e-6,1]\n",
    "LayerMaximumGains = [1e6,1.001]\n",
    "WScalings = [0.0033,0.0033]\n",
    "GamScalings = [0.02,0.02]\n",
    "zeta = 1e-5\n",
    "beta = 0.5\n",
    "muD = [1, 1e-2]\n",
    "\n",
    "s_dim = S.shape[0]\n",
    "x_dim = X.shape[0]\n",
    "h_dim = s_dim\n",
    "samples = S.shape[1]"
   ]
  },
  {
   "cell_type": "markdown",
   "id": "88aa7a36",
   "metadata": {},
   "source": [
    "# Run WSM Algorithm on Mixture Signals"
   ]
  },
  {
   "cell_type": "code",
   "execution_count": null,
   "id": "929143a0",
   "metadata": {
    "scrolled": false
   },
   "outputs": [],
   "source": [
    "debug_iteration_point = 10000\n",
    "\n",
    "model = OnlineWSMBSS(s_dim = s_dim, x_dim = x_dim, h_dim = h_dim, \n",
    "                     gamma_start = MUS, beta = beta, zeta = zeta, \n",
    "                     muD = muD,WScalings = WScalings,\n",
    "                     DScalings = LayerGains, LayerMinimumGains = LayerMinimumGains,\n",
    "                     LayerMaximumGains = LayerMaximumGains,neural_OUTPUT_COMP_TOL = OUTPUT_COMP_TOL,\n",
    "                     set_ground_truth = True, S = S, A = A)\n",
    "\n",
    "model.fit_batch_simplex(X, n_epochs = 1, neural_lr_start = 0.5, shuffle = False,\n",
    "                       debug_iteration_point = debug_iteration_point, \n",
    "                       plot_in_jupyter = True)"
   ]
  },
  {
   "cell_type": "code",
   "execution_count": null,
   "id": "b426d814",
   "metadata": {},
   "outputs": [],
   "source": [
    "S.std(axis = 1)"
   ]
  },
  {
   "cell_type": "markdown",
   "id": "401d9cde",
   "metadata": {},
   "source": [
    "# Visualize SNR Convergence of Each Source Component"
   ]
  },
  {
   "cell_type": "code",
   "execution_count": null,
   "id": "856f95e3",
   "metadata": {},
   "outputs": [],
   "source": [
    "mpl.rcParams['xtick.labelsize'] = 18\n",
    "mpl.rcParams['ytick.labelsize'] = 18\n",
    "plot_convergence_plot(model.SNR_list, xlabel = 'Number of Iterations / {}'.format(debug_iteration_point),\n",
    "                     ylabel = 'SINR (dB)', title = 'SINR Convergence Plot', colorcode = None, linewidth = 1.8)"
   ]
  },
  {
   "cell_type": "markdown",
   "id": "e98e3c6e",
   "metadata": {},
   "source": [
    "# Calculate Resulting Component SNRs and Overall SINR"
   ]
  },
  {
   "cell_type": "code",
   "execution_count": null,
   "id": "ff3bdf25",
   "metadata": {},
   "outputs": [],
   "source": [
    "Wf = model.compute_overall_mapping(return_mapping = True)\n",
    "Y = Wf @ X\n",
    "Y_ = signed_and_permutation_corrected_sources(S.T,Y.T)\n",
    "coef_ = (Y_ * S.T).sum(axis = 0) / (Y_ * Y_).sum(axis = 0)\n",
    "Y_ = coef_ * Y_\n",
    "\n",
    "print(\"Component SNR Values : {}\\n\".format(snr(S.T, Y_)))\n",
    "\n",
    "SINRwsm = 10*np.log10(CalculateSINR(Y_.T , S)[0])\n",
    "\n",
    "print(\"Overall SINR : {}\".format(SINRwsm))"
   ]
  },
  {
   "cell_type": "code",
   "execution_count": null,
   "id": "2702c4a5",
   "metadata": {},
   "outputs": [],
   "source": [
    "CalculateSIR(A, Wf)"
   ]
  },
  {
   "cell_type": "markdown",
   "id": "1f1072c7",
   "metadata": {},
   "source": [
    "# Vizualize Extracted Signals Compared to Original Sources"
   ]
  },
  {
   "cell_type": "code",
   "execution_count": null,
   "id": "0b221b05",
   "metadata": {},
   "outputs": [],
   "source": [
    "subplot_1D_signals(Y_[0:100], title = 'Extracted Signals (Sign and Permutation Corrected)', figsize = (15.2,9), colorcode = None)\n",
    "subplot_1D_signals(S.T[0:100], title = 'Original Signals', figsize = (15.2,9), colorcode = None)"
   ]
  },
  {
   "cell_type": "code",
   "execution_count": null,
   "id": "ee1361aa",
   "metadata": {},
   "outputs": [],
   "source": [
    "import mir_eval"
   ]
  },
  {
   "cell_type": "code",
   "execution_count": null,
   "id": "3a8536b8",
   "metadata": {},
   "outputs": [],
   "source": [
    "S.shape, Y_.T.shape"
   ]
  },
  {
   "cell_type": "code",
   "execution_count": null,
   "id": "47b1753d",
   "metadata": {},
   "outputs": [],
   "source": [
    "mir_eval.separation.bss_eval_sources(S, Y_.T,\n",
    "                     compute_permutation=True)"
   ]
  }
 ],
 "metadata": {
  "kernelspec": {
   "display_name": "Python 3 (ipykernel)",
   "language": "python",
   "name": "python3"
  },
  "language_info": {
   "codemirror_mode": {
    "name": "ipython",
    "version": 3
   },
   "file_extension": ".py",
   "mimetype": "text/x-python",
   "name": "python",
   "nbconvert_exporter": "python",
   "pygments_lexer": "ipython3",
   "version": "3.8.12"
  }
 },
 "nbformat": 4,
 "nbformat_minor": 5
}
