{
 "cells": [
  {
   "cell_type": "markdown",
   "id": "8018a642",
   "metadata": {},
   "source": [
    "# Import Required Libraries"
   ]
  },
  {
   "cell_type": "code",
   "execution_count": null,
   "id": "9db2e860",
   "metadata": {},
   "outputs": [],
   "source": [
    "import sys\n",
    "import os\n",
    "os.chdir(\"..\")\n",
    "os.chdir(\"./src\")\n",
    "# sys.path.append(\"./src\")"
   ]
  },
  {
   "cell_type": "code",
   "execution_count": null,
   "id": "3e77b841",
   "metadata": {},
   "outputs": [],
   "source": [
    "import numpy as np\n",
    "import matplotlib.pyplot as plt\n",
    "import pandas as pd\n",
    "import scipy.io\n",
    "from tqdm import tqdm\n",
    "from scipy.stats import invgamma, chi2, t\n",
    "from WSMBSS import *\n",
    "from utils import *\n",
    "from numba import njit\n",
    "from IPython import display\n",
    "import pylab as pl\n",
    "import warnings\n",
    "warnings.filterwarnings(\"ignore\")\n",
    "# np.random.seed(1569)\n",
    "# %load_ext autoreload\n",
    "# %autoreload 2\n",
    "notebook_name = 'Antisparse_Copula'"
   ]
  },
  {
   "cell_type": "markdown",
   "id": "d0071175",
   "metadata": {},
   "source": [
    "# Source Generation and Mixing Scenario"
   ]
  },
  {
   "cell_type": "code",
   "execution_count": null,
   "id": "1351ebbf",
   "metadata": {},
   "outputs": [],
   "source": [
    "rho = 0.6\n",
    "N = 500000\n",
    "NumberofSources = 4\n",
    "NumberofMixtures = 8\n",
    "\n",
    "M = NumberofMixtures\n",
    "r = NumberofSources\n",
    "\n",
    "SNR = 30 # dB\n",
    "NoiseAmp = (10 ** (-SNR/20))# * np.sqrt(NumberofSources)\n",
    "\n",
    "S = generate_correlated_copula_sources(rho = rho, df = 4, n_sources = NumberofSources, size_sources = N , \n",
    "                                       decreasing_correlation = True)\n",
    "S = 2 * S - 1\n",
    "INPUT_STD = 0.5\n",
    "A, X = WSM_Mixing_Scenario(S, NumberofMixtures, INPUT_STD)\n",
    "SNR=30\n",
    "\n",
    "X, NoisePart = addWGN(X, SNR, return_noise = True)\n",
    "\n",
    "SNRinp = 10 * np.log10(np.sum(np.mean((X - NoisePart)**2, axis = 1)) / np.sum(np.mean(NoisePart**2, axis = 1)))\n",
    "print(\"The following is the mixture matrix A\")\n",
    "display_matrix(A)\n",
    "print(\"Input SNR is : {}\".format(SNRinp))"
   ]
  },
  {
   "cell_type": "markdown",
   "id": "bf42a1cf",
   "metadata": {},
   "source": [
    "# Visualize Generated Sources and Mixtures"
   ]
  },
  {
   "cell_type": "code",
   "execution_count": null,
   "id": "1f0df841",
   "metadata": {},
   "outputs": [],
   "source": [
    "subplot_1D_signals(S[:,0:100], title = 'Original Signals', figsize = (15.2,9), colorcode = None)\n",
    "subplot_1D_signals(X[:,0:100], title = 'Mixture Signals', figsize = (15,18), colorcode = None)"
   ]
  },
  {
   "cell_type": "markdown",
   "id": "6f3e665e",
   "metadata": {},
   "source": [
    "# Algorithm Hyperparameter Selection and Weight Initialization"
   ]
  },
  {
   "cell_type": "code",
   "execution_count": null,
   "id": "03a2b34e",
   "metadata": {},
   "outputs": [],
   "source": [
    "if rho > 0.4:\n",
    "    gamma_start = 0.25\n",
    "    gamma_stop = 5*1e-4\n",
    "else:\n",
    "    gamma_start = 0.6\n",
    "    gamma_stop = 1e-3\n",
    "    \n",
    "gammaM_start = [gamma_start, gamma_start]\n",
    "gammaM_stop = [gamma_stop, gamma_stop]\n",
    "gammaW_start = [gamma_start, gamma_start]\n",
    "gammaW_stop = [gamma_stop, gamma_stop]\n",
    "\n",
    "OUTPUT_COMP_TOL = 1e-6\n",
    "MAX_OUT_ITERATIONS= 3000\n",
    "LayerGains = [1,1]\n",
    "LayerMinimumGains = [0.2,0.2]\n",
    "LayerMaximumGains = [1e6,5]\n",
    "WScalings = [0.005,0.005]\n",
    "GamScalings = [2,1]\n",
    "zeta = 5*1e-5\n",
    "beta = 0.5\n",
    "muD = [1.125, 0.2]\n",
    "\n",
    "s_dim = S.shape[0]\n",
    "x_dim = X.shape[0]\n",
    "h_dim = s_dim\n",
    "samples = S.shape[1]\n",
    "W_HX = np.eye(h_dim, x_dim)\n",
    "W_YH = np.eye(s_dim, h_dim)"
   ]
  },
  {
   "cell_type": "markdown",
   "id": "88aa7a36",
   "metadata": {},
   "source": [
    "# Run WSM Algorithm on Mixture Signals"
   ]
  },
  {
   "cell_type": "code",
   "execution_count": null,
   "id": "abae9b5a",
   "metadata": {},
   "outputs": [],
   "source": [
    "debug_iteration_point = 25000\n",
    "modelWSM = OnlineWSMBSS(s_dim = s_dim, x_dim = x_dim, h_dim = h_dim, \n",
    "                        gammaM_start = gammaM_start, gammaM_stop = gammaM_stop, \n",
    "                        gammaW_start = gammaW_start, gammaW_stop = gammaW_stop, \n",
    "                        beta = beta, zeta = zeta, \n",
    "                        muD = muD,WScalings = WScalings, GamScalings = GamScalings,\n",
    "                        W_HX = W_HX, W_YH = W_YH,\n",
    "                        DScalings = LayerGains, LayerMinimumGains = LayerMinimumGains,\n",
    "                        LayerMaximumGains = LayerMaximumGains,neural_OUTPUT_COMP_TOL = OUTPUT_COMP_TOL,\n",
    "                        set_ground_truth = True, S = S, A = A)"
   ]
  },
  {
   "cell_type": "code",
   "execution_count": null,
   "id": "eda9564a",
   "metadata": {},
   "outputs": [],
   "source": [
    "modelWSM.fit_batch_antisparse(  X, n_epochs = 1, \n",
    "                                neural_lr_start = 0.75,\n",
    "                                neural_lr_stop = 0.05,\n",
    "                                debug_iteration_point = debug_iteration_point,\n",
    "                                plot_in_jupyter = True,\n",
    "                              )"
   ]
  },
  {
   "cell_type": "markdown",
   "id": "401d9cde",
   "metadata": {},
   "source": [
    "# Visualize SNR Convergence of Each Source Component"
   ]
  },
  {
   "cell_type": "code",
   "execution_count": null,
   "id": "856f95e3",
   "metadata": {},
   "outputs": [],
   "source": [
    "mpl.rcParams['xtick.labelsize'] = 18\n",
    "mpl.rcParams['ytick.labelsize'] = 18\n",
    "plot_convergence_plot(modelWSM.SNR_list, xlabel = 'Number of Iterations / {}'.format(debug_iteration_point),\n",
    "                     ylabel = 'SINR (dB)', title = 'SINR Convergence Plot', colorcode = None, linewidth = 1.8)"
   ]
  },
  {
   "cell_type": "markdown",
   "id": "e98e3c6e",
   "metadata": {},
   "source": [
    "# Calculate Resulting Component SNRs and Overall SINR"
   ]
  },
  {
   "cell_type": "code",
   "execution_count": null,
   "id": "ff3bdf25",
   "metadata": {},
   "outputs": [],
   "source": [
    "Wf = modelWSM.compute_overall_mapping(return_mapping = True)\n",
    "Y = Wf @ X\n",
    "Y_ = signed_and_permutation_corrected_sources(S,Y)\n",
    "coef_ = ((Y_ * S).sum(axis = 1) / (Y_ * Y_).sum(axis = 1)).reshape(-1,1)\n",
    "Y_ = coef_ * Y_\n",
    "\n",
    "print(\"Component SNR Values : {}\\n\".format(snr_jit(S, Y_)))\n",
    "\n",
    "SINRwsm = 10*np.log10(CalculateSINRjit(Y_, S)[0])\n",
    "\n",
    "print(\"Overall SINR : {}\".format(SINRwsm))"
   ]
  },
  {
   "cell_type": "markdown",
   "id": "1f1072c7",
   "metadata": {},
   "source": [
    "# Vizualize Extracted Signals Compared to Original Sources"
   ]
  },
  {
   "cell_type": "code",
   "execution_count": null,
   "id": "0b221b05",
   "metadata": {},
   "outputs": [],
   "source": [
    "subplot_1D_signals(Y_[:,0:100], title = 'Extracted Signals (Sign and Permutation Corrected)', figsize = (15.2,9), colorcode = None)\n",
    "subplot_1D_signals(S[:,0:100], title = 'Original Signals', figsize = (15.2,9), colorcode = None)"
   ]
  },
  {
   "cell_type": "code",
   "execution_count": null,
   "id": "d2a8fc56",
   "metadata": {},
   "outputs": [],
   "source": []
  }
 ],
 "metadata": {
  "kernelspec": {
   "display_name": "Python 3 (ipykernel)",
   "language": "python",
   "name": "python3"
  },
  "language_info": {
   "codemirror_mode": {
    "name": "ipython",
    "version": 3
   },
   "file_extension": ".py",
   "mimetype": "text/x-python",
   "name": "python",
   "nbconvert_exporter": "python",
   "pygments_lexer": "ipython3",
   "version": "3.8.12"
  }
 },
 "nbformat": 4,
 "nbformat_minor": 5
}
