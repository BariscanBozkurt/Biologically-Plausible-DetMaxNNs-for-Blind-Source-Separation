{
 "cells": [
  {
   "cell_type": "code",
   "execution_count": null,
   "id": "a5501c4f",
   "metadata": {},
   "outputs": [],
   "source": [
    "import sys\n",
    "sys.path.insert(0, '../Results')\n",
    "sys.path.insert(0, '../../src')\n",
    "import pandas as pd\n",
    "import numpy as np\n",
    "import matplotlib.pyplot as plt\n",
    "import pickle\n",
    "import os\n",
    "from visualization_utils import perc, SetPlotRC, ApplyFont"
   ]
  },
  {
   "cell_type": "markdown",
   "id": "1adb5bfa",
   "metadata": {},
   "source": [
    "# (Signed) Antisparse Correlated ($[1 \\quad \\rho \\quad \\rho^2 \\quad \\rho^3]$)"
   ]
  },
  {
   "cell_type": "code",
   "execution_count": null,
   "id": "2cefab5d",
   "metadata": {},
   "outputs": [],
   "source": [
    "df_anti_results1 = pd.read_pickle(r\"../Results/simulation_results_correlated_antisparseV3.pkl\")[['Model','rho', 'SINR']]\n",
    "df_anti_results2 = pd.read_pickle(r\"../Results/simulation_results_correlated_antisparseV4.pkl\")[['Model','rho', 'SINR']]\n",
    "df_anti_results3 = pd.read_pickle(r\"../Results/simulation_results_correlated_antisparseV5.pkl\")[['Model','rho', 'SINR']]\n",
    "df_anti_results = pd.concat([df_anti_results1,df_anti_results2, df_anti_results3], axis = 0)\n",
    "# print('Shape : {}'.format(df_anti_results.shape))\n",
    "print('Number of diverge cases for WSM is : ', df_anti_results.loc[(df_anti_results['SINR'] == -999) & (df_anti_results['Model'] == 'WSM')].shape[0])\n",
    "\n",
    "df_anti_results = df_anti_results.loc[df_anti_results['SINR'] != -999]\n",
    "results = df_anti_results[['Model', 'rho', 'SINR']].groupby(['Model', 'rho']).agg({'rho':'size', 'SINR':'mean'}).rename(columns={'rho':'count','SINR':'SINR'}).reset_index()\n",
    "table = pd.DataFrame(columns = ([\"rho\"] + list(df_anti_results['Model'].unique())))\n",
    "table['rho'] = np.array([0.1*j for j in range(9)])\n",
    "for m in list(table.columns[1:]):\n",
    "    table[m] = results.loc[results['Model'] == m]['SINR'].values\n",
    "    \n",
    "table"
   ]
  },
  {
   "cell_type": "code",
   "execution_count": null,
   "id": "e72f5d17",
   "metadata": {},
   "outputs": [],
   "source": [
    "SetPlotRC()\n",
    "\n",
    "SINRWSM = results.loc[results['Model'] == 'WSM']['SINR'].to_numpy()\n",
    "SINRIca = results.loc[results['Model'] == 'ICA']['SINR'].to_numpy()\n",
    "SINRBSM = results.loc[results['Model'] == 'BSM']['SINR'].to_numpy()\n",
    "SINRLDMI = results.loc[results['Model'] == 'LDMI']['SINR'].to_numpy()\n",
    "SINRPMF = results.loc[results['Model'] == 'PMF']['SINR'].to_numpy()\n",
    "rholist = [0.0, 0.1, 0.2, 0.3, 0.4, 0.5, 0.6, 0.7, 0.8]\n",
    "fh2=plt.figure(figsize=(10, 6), dpi=80)\n",
    "\n",
    "plt.plot(rholist,SINRWSM,'-', linewidth=4, label = \"WSM\")\n",
    "plt.plot(rholist,SINRIca,'g--',linewidth=4, label = \"ICA-Infomax\")\n",
    "plt.plot(rholist,SINRBSM,'b--',linewidth=4, label = \"BSM\")\n",
    "plt.plot(rholist[:7],SINRLDMI[:7],'k:',linewidth=6, label = \"LD-InfoMax\")\n",
    "plt.plot(rholist,SINRPMF,'c:',linewidth=6, label = \"PMF\")\n",
    "gh=plt.grid(linewidth=2)\n",
    "plt.xticks(fontsize=20)\n",
    "plt.yticks(fontsize=20)\n",
    "plt.ylabel('SINR (dB)',fontsize=25)\n",
    "plt.xlabel(r\"$\\rho$\",fontsize=25)\n",
    "plt.legend(loc='lower left',fontsize=15)\n",
    "plt.axis([0.0,0.6,-0,37])\n",
    "plt.title('Anti-sparse Source Separation SINR Results',fontsize=20)\n",
    "ApplyFont(plt.gca())"
   ]
  },
  {
   "cell_type": "code",
   "execution_count": null,
   "id": "c2263df2",
   "metadata": {},
   "outputs": [],
   "source": [
    "# results.loc[results['Model'] == 'WSM']"
   ]
  },
  {
   "cell_type": "markdown",
   "id": "37f42e7c",
   "metadata": {},
   "source": [
    "# Nonnegative Antisparse Correlated ($[1 \\quad \\rho \\quad \\rho \\quad \\rho \\quad \\rho]$)"
   ]
  },
  {
   "cell_type": "code",
   "execution_count": null,
   "id": "80e28cc9",
   "metadata": {},
   "outputs": [],
   "source": [
    "df_nnanti_results1 = pd.read_pickle(r\"../Results/simulation_results_correlated_nnantisparseV1.pkl\")[['Model','rho', 'SINR']]\n",
    "df_nnanti_results2 = pd.read_pickle(r\"../Results/simulation_results_correlated_nnantisparseV2.pkl\")[['Model','rho', 'SINR']]\n",
    "df_nnanti_results3 = pd.read_pickle(r\"../Results/simulation_results_correlated_nnantisparseV3.pkl\")[['Model','rho', 'SINR']]\n",
    "df_nnanti_results4 = pd.read_pickle(r\"../Results/simulation_results_correlated_nnantisparseV4.pkl\")[['Model','rho', 'SINR']]\n",
    "\n",
    "df_nnanti_results = pd.concat([\n",
    "                                df_nnanti_results1, \n",
    "                                df_nnanti_results2, \n",
    "                                df_nnanti_results3,\n",
    "                                df_nnanti_results4], axis = 0)\n",
    "\n",
    "# print('Shape : {}'.format(df_nnanti_results.shape))\n",
    "# print('Number of diverge cases for WSM is : ', df_nnanti_results.loc[(df_nnanti_results['SINR'] == -999) & (df_nnanti_results['Model'] == 'WSM')].shape[0])\n",
    "\n",
    "df_nnanti_results = df_nnanti_results.loc[df_nnanti_results['SINR'] != -999]\n",
    "results = df_nnanti_results[['Model', 'rho', 'SINR']].groupby(['Model', 'rho']).agg({'rho':'size', 'SINR':'mean'}).rename(columns={'rho':'count','SINR':'SINR'}).reset_index()\n",
    "table = pd.DataFrame(columns = ([\"rho\"] + list(df_nnanti_results['Model'].unique())))\n",
    "table['rho'] = np.array([0.1*j for j in range(9)])\n",
    "for m in list(table.columns[1:]):\n",
    "    table[m] = results.loc[results['Model'] == m]['SINR'].values\n",
    "    \n",
    "table"
   ]
  },
  {
   "cell_type": "code",
   "execution_count": null,
   "id": "df822fc7",
   "metadata": {},
   "outputs": [],
   "source": [
    "# df_nnanti_results = pd.concat([\n",
    "#                                df_nnanti_results1, \n",
    "#                                df_nnanti_results2, \n",
    "#                                df_nnanti_results3,\n",
    "#                                df_nnanti_results4\n",
    "#                               ],\n",
    "#                               axis = 0)\n",
    "# print('Shape : {}'.format(df_nnanti_results.shape))\n",
    "\n",
    "# df_nnanti_results = df_nnanti_results.loc[df_nnanti_results['SINR'] != -999]\n",
    "# results = df_nnanti_results[['Model', 'rho', 'SINR']].groupby(['Model', 'rho']).agg({'rho':'size', 'SINR':'mean'}).rename(columns={'rho':'count','SINR':'SINR'}).reset_index()\n",
    "\n",
    "SetPlotRC()\n",
    "\n",
    "SINRIca = results.loc[results['Model'] == 'ICA']['SINR'].to_numpy()\n",
    "SINRNSM = results.loc[results['Model'] == 'NSM']['SINR'].to_numpy()\n",
    "SINRLDMI = results.loc[results['Model'] == 'LDMI']['SINR'].to_numpy()\n",
    "SINRPMF = results.loc[results['Model'] == 'PMF']['SINR'].to_numpy()\n",
    "SINRWSM = results.loc[results['Model'] == 'WSM']['SINR'].to_numpy()\n",
    "\n",
    "rholist = [0.0, 0.1, 0.2, 0.3, 0.4, 0.5, 0.6, 0.7, 0.8]\n",
    "fh2=plt.figure(figsize=(10, 6), dpi=80)\n",
    "\n",
    "plt.plot(rholist,SINRWSM,'-', linewidth=4, label = \"WSM\")\n",
    "plt.plot(rholist,SINRIca,'g--',linewidth=4, label = \"ICA-Infomax\")\n",
    "plt.plot(rholist,SINRNSM,'b--',linewidth=4, label = \"NSM\")\n",
    "plt.plot(rholist,SINRLDMI,'k:',linewidth=6, label = \"LD-InfoMax\")\n",
    "plt.plot(rholist,SINRPMF, 'c:', linewidth=6, label = \"PMF\")\n",
    "\n",
    "gh=plt.grid(linewidth=2)\n",
    "plt.xticks(fontsize=20)\n",
    "plt.yticks(fontsize=20)\n",
    "plt.ylabel('SINR (dB)',fontsize=25)\n",
    "plt.xlabel(r\"$\\rho$\",fontsize=25)\n",
    "plt.legend(loc='lower left',fontsize=15)\n",
    "plt.axis([0.0,0.8,-0,38])\n",
    "plt.title('Nonnegative Anti-sparse Source Separation SINR Results',fontsize=20)\n",
    "ApplyFont(plt.gca())\n",
    "# plt.savefig('Figures/WSM_NNAntisparse_CorrelatedV2.pdf', format='pdf')"
   ]
  },
  {
   "cell_type": "code",
   "execution_count": null,
   "id": "11404d94",
   "metadata": {},
   "outputs": [],
   "source": [
    "# results.loc[results['Model'] == 'WSM']"
   ]
  }
 ],
 "metadata": {
  "kernelspec": {
   "display_name": "Python 3 (ipykernel)",
   "language": "python",
   "name": "python3"
  },
  "language_info": {
   "codemirror_mode": {
    "name": "ipython",
    "version": 3
   },
   "file_extension": ".py",
   "mimetype": "text/x-python",
   "name": "python",
   "nbconvert_exporter": "python",
   "pygments_lexer": "ipython3",
   "version": "3.8.12"
  }
 },
 "nbformat": 4,
 "nbformat_minor": 5
}
